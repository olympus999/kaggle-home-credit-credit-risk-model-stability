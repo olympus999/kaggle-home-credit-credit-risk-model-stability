{
 "cells": [
  {
   "cell_type": "markdown",
   "metadata": {},
   "source": [
    "# Read data"
   ]
  },
  {
   "cell_type": "code",
   "execution_count": 1,
   "metadata": {
    "tags": []
   },
   "outputs": [],
   "source": [
    "import os\n",
    "import sys\n",
    "from os.path import dirname"
   ]
  },
  {
   "cell_type": "code",
   "execution_count": 2,
   "metadata": {
    "tags": []
   },
   "outputs": [],
   "source": [
    "## When using kaggle env\n",
    "# path_root = \"/kaggle/\"\n",
    "\n",
    "## Local env\n",
    "path_root = \"../data/\""
   ]
  },
  {
   "cell_type": "code",
   "execution_count": 3,
   "metadata": {
    "tags": []
   },
   "outputs": [],
   "source": [
    "## Add spark\n",
    "# !tar xf /kaggle/input/pyspark-3-5-0/spark-3.5.0-bin-hadoop3.tgz\n",
    "# if not os.path.isdir(\"spark\"):\n",
    "#     os.rename(\"spark-3.5.0-bin-hadoop3\", \"spark\")\n",
    "# sys.path.append(dirname(os.path.join(path_root, \"working/spark/python/\")))"
   ]
  },
  {
   "cell_type": "code",
   "execution_count": 4,
   "metadata": {
    "tags": []
   },
   "outputs": [],
   "source": [
    "from pyspark.sql.functions import col, count, max, mean, median, min, std, when"
   ]
  },
  {
   "cell_type": "code",
   "execution_count": 5,
   "metadata": {
    "_cell_guid": "b1076dfc-b9ad-4769-8c92-a6c4dae69d19",
    "_uuid": "8f2839f25d086af736a60e9eeb907d3b93b6e0e5",
    "tags": []
   },
   "outputs": [
    {
     "name": "stderr",
     "output_type": "stream",
     "text": [
      "24/02/15 19:11:52 WARN Utils: Your hostname, DESKTOP-8S53VC0 resolves to a loopback address: 127.0.1.1; using 172.29.16.163 instead (on interface eth0)\n",
      "24/02/15 19:11:52 WARN Utils: Set SPARK_LOCAL_IP if you need to bind to another address\n",
      "Setting default log level to \"WARN\".\n",
      "To adjust logging level use sc.setLogLevel(newLevel). For SparkR, use setLogLevel(newLevel).\n",
      "24/02/15 19:11:54 WARN NativeCodeLoader: Unable to load native-hadoop library for your platform... using builtin-java classes where applicable\n"
     ]
    },
    {
     "name": "stdout",
     "output_type": "stream",
     "text": [
      "Spark Version: 3.5.0\n"
     ]
    }
   ],
   "source": [
    "# This Python 3 environment comes with many helpful analytics libraries installed\n",
    "# It is defined by the kaggle/python Docker image: https://github.com/kaggle/docker-python\n",
    "# For example, here's several helpful packages to load\n",
    "\n",
    "# !pip install pyspark\n",
    "\n",
    "import numpy as np  # linear algebra\n",
    "import pandas as pd  # data processing, CSV file I/O (e.g. pd.read_csv)\n",
    "from pyspark.sql import SparkSession\n",
    "from pyspark.sql import functions as func\n",
    "from pyspark.sql.functions import col, count, max, mean, median, min, std, when\n",
    "from pyspark.sql.types import (\n",
    "    BooleanType,\n",
    "    ByteType,\n",
    "    DateType,\n",
    "    DoubleType,\n",
    "    IntegerType,\n",
    "    LongType,\n",
    "    StringType,\n",
    "    StructField,\n",
    "    StructType,\n",
    ")\n",
    "from scipy.stats import ks_2samp\n",
    "\n",
    "pd.set_option(\"display.max_columns\", 50)\n",
    "\n",
    "# Input data files are available in the read-only \"../input/\" directory\n",
    "# For example, running this (by clicking run or pressing Shift+Enter) will list all files under the input directory\n",
    "\n",
    "train_files = []\n",
    "files = []\n",
    "import os\n",
    "\n",
    "for dirname, _, filenames in os.walk(os.path.join(path_root, \"input\")):\n",
    "    for filename in filenames:\n",
    "        f = os.path.join(dirname, filename)\n",
    "        files.append(f)\n",
    "#         print(os.path.join(dirname, filename))\n",
    "train_files = [x for x in files if \"/parquet_files/train\" in x]\n",
    "train_files.sort()\n",
    "\n",
    "files.sort()\n",
    "\n",
    "df_feature_definitions = pd.read_csv(\n",
    "    os.path.join(\n",
    "        path_root,\n",
    "        \"input/home-credit-credit-risk-model-stability/feature_definitions.csv\",\n",
    "    )\n",
    ")\n",
    "# You can write up to 20GB to the current directory (/kaggle/working/) that gets preserved as output when you create a version using \"Save & Run All\"\n",
    "# You can also write temporary files to /kaggle/temp/, but they won't be saved outside of the current session\n",
    "\n",
    "\n",
    "# spark = SparkSession.builder.appName('First Session').getOrCreate()\n",
    "spark = (\n",
    "    SparkSession.builder.master(\"local[*]\")\n",
    "    .config(\"spark.driver.maxResultSize\", \"10g\")\n",
    "    .config(\"spark.driver.memory\", \"10g\")\n",
    "    .config(\"spark.executor.memory\", \"10g\")\n",
    "    .getOrCreate()\n",
    ")\n",
    "\n",
    "spark.conf.set(\"spark.sql.execution.arrow.pyspark.enabled\", \"true\")\n",
    "\n",
    "print(\"Spark Version: {}\".format(spark.version))"
   ]
  },
  {
   "cell_type": "code",
   "execution_count": 6,
   "metadata": {
    "tags": []
   },
   "outputs": [],
   "source": [
    "schemas = {}\n",
    "schemas[\"applprev_1\"] = StructType(\n",
    "    [\n",
    "        StructField(\"case_id\", LongType(), nullable=True),\n",
    "        StructField(\"actualdpd_943P\", DoubleType(), nullable=True),\n",
    "        StructField(\"annuity_853A\", DoubleType(), nullable=True),\n",
    "        StructField(\"approvaldate_319D\", DateType(), nullable=True),\n",
    "        StructField(\"byoccupationinc_3656910L\", DoubleType(), nullable=True),\n",
    "        StructField(\"cancelreason_3545846M\", StringType(), nullable=True),\n",
    "        StructField(\"childnum_21L\", DoubleType(), nullable=True),\n",
    "        StructField(\"creationdate_885D\", DateType(), nullable=True),\n",
    "        StructField(\"credacc_actualbalance_314A\", DoubleType(), nullable=True),\n",
    "        StructField(\"credacc_credlmt_575A\", DoubleType(), nullable=True),\n",
    "        StructField(\"credacc_maxhisbal_375A\", DoubleType(), nullable=True),\n",
    "        StructField(\"credacc_minhisbal_90A\", DoubleType(), nullable=True),\n",
    "        StructField(\"credacc_status_367L\", StringType(), nullable=True),\n",
    "        StructField(\"credacc_transactions_402L\", DoubleType(), nullable=True),\n",
    "        StructField(\"credamount_590A\", DoubleType(), nullable=True),\n",
    "        StructField(\"credtype_587L\", StringType(), nullable=True),\n",
    "        StructField(\"currdebt_94A\", DoubleType(), nullable=True),\n",
    "        StructField(\"dateactivated_425D\", StringType(), nullable=True),\n",
    "        StructField(\"district_544M\", StringType(), nullable=True),\n",
    "        StructField(\"downpmt_134A\", DoubleType(), nullable=True),\n",
    "        StructField(\"dtlastpmt_581D\", StringType(), nullable=True),\n",
    "        StructField(\"dtlastpmtallstes_3545839D\", StringType(), nullable=True),\n",
    "        StructField(\"education_1138M\", StringType(), nullable=True),\n",
    "        StructField(\"employedfrom_700D\", StringType(), nullable=True),\n",
    "        StructField(\"familystate_726L\", StringType(), nullable=True),\n",
    "        StructField(\"firstnonzeroinstldate_307D\", DateType(), nullable=True),\n",
    "        StructField(\"inittransactioncode_279L\", StringType(), nullable=True),\n",
    "        StructField(\"isbidproduct_390L\", BooleanType(), nullable=True),\n",
    "        StructField(\"isdebitcard_527L\", BooleanType(), nullable=True),\n",
    "        StructField(\"mainoccupationinc_437A\", DoubleType(), nullable=True),\n",
    "        StructField(\"maxdpdtolerance_577P\", DoubleType(), nullable=True),\n",
    "        StructField(\"num_group1\", ByteType(), nullable=True),\n",
    "        StructField(\"outstandingdebt_522A\", DoubleType(), nullable=True),\n",
    "        StructField(\"pmtnum_8L\", DoubleType(), nullable=True),\n",
    "        StructField(\"postype_4733339M\", StringType(), nullable=True),\n",
    "        StructField(\"profession_152M\", StringType(), nullable=True),\n",
    "        StructField(\"rejectreason_755M\", StringType(), nullable=True),\n",
    "        StructField(\"rejectreasonclient_4145042M\", StringType(), nullable=True),\n",
    "        StructField(\"revolvingaccount_394A\", DoubleType(), nullable=True),\n",
    "        StructField(\"status_219L\", StringType(), nullable=True),\n",
    "        StructField(\"tenor_203L\", DoubleType(), nullable=True),\n",
    "    ]\n",
    ")\n",
    "\n",
    "schemas[\"static_0\"] = StructType(\n",
    "    [\n",
    "        StructField(\"case_id\", LongType(), nullable=True),\n",
    "        StructField(\"actualdpdtolerance_344P\", DoubleType(), nullable=True),\n",
    "        StructField(\"amtinstpaidbefduel24m_4187115A\", DoubleType(), nullable=True),\n",
    "        StructField(\"annuity_780A\", DoubleType(), nullable=True),\n",
    "        StructField(\"annuitynextmonth_57A\", DoubleType(), nullable=True),\n",
    "        StructField(\"applicationcnt_361L\", DoubleType(), nullable=True),\n",
    "        StructField(\"applications30d_658L\", DoubleType(), nullable=True),\n",
    "        StructField(\"applicationscnt_1086L\", DoubleType(), nullable=True),\n",
    "        StructField(\"applicationscnt_464L\", DoubleType(), nullable=True),\n",
    "        StructField(\"applicationscnt_629L\", DoubleType(), nullable=True),\n",
    "        StructField(\"applicationscnt_867L\", DoubleType(), nullable=True),\n",
    "        StructField(\"avgdbddpdlast24m_3658932P\", DoubleType(), nullable=True),\n",
    "        StructField(\"avgdbddpdlast3m_4187120P\", DoubleType(), nullable=True),\n",
    "        StructField(\"avgdbdtollast24m_4525197P\", DoubleType(), nullable=True),\n",
    "        StructField(\"avgdpdtolclosure24_3658938P\", DoubleType(), nullable=True),\n",
    "        StructField(\"avginstallast24m_3658937A\", DoubleType(), nullable=True),\n",
    "        StructField(\"avglnamtstart24m_4525187A\", DoubleType(), nullable=True),\n",
    "        StructField(\"avgmaxdpdlast9m_3716943P\", DoubleType(), nullable=True),\n",
    "        StructField(\"avgoutstandbalancel6m_4187114A\", DoubleType(), nullable=True),\n",
    "        StructField(\"avgpmtlast12m_4525200A\", DoubleType(), nullable=True),\n",
    "        StructField(\"bankacctype_710L\", StringType(), nullable=True),\n",
    "        StructField(\"cardtype_51L\", StringType(), nullable=True),\n",
    "        StructField(\"clientscnt12m_3712952L\", DoubleType(), nullable=True),\n",
    "        StructField(\"clientscnt3m_3712950L\", DoubleType(), nullable=True),\n",
    "        StructField(\"clientscnt6m_3712949L\", DoubleType(), nullable=True),\n",
    "        StructField(\"clientscnt_100L\", DoubleType(), nullable=True),\n",
    "        StructField(\"clientscnt_1022L\", DoubleType(), nullable=True),\n",
    "        StructField(\"clientscnt_1071L\", DoubleType(), nullable=True),\n",
    "        StructField(\"clientscnt_1130L\", DoubleType(), nullable=True),\n",
    "        StructField(\"clientscnt_136L\", DoubleType(), nullable=True),\n",
    "        StructField(\"clientscnt_157L\", DoubleType(), nullable=True),\n",
    "        StructField(\"clientscnt_257L\", DoubleType(), nullable=True),\n",
    "        StructField(\"clientscnt_304L\", DoubleType(), nullable=True),\n",
    "        StructField(\"clientscnt_360L\", DoubleType(), nullable=True),\n",
    "        StructField(\"clientscnt_493L\", DoubleType(), nullable=True),\n",
    "        StructField(\"clientscnt_533L\", DoubleType(), nullable=True),\n",
    "        StructField(\"clientscnt_887L\", DoubleType(), nullable=True),\n",
    "        StructField(\"clientscnt_946L\", DoubleType(), nullable=True),\n",
    "        StructField(\"cntincpaycont9m_3716944L\", DoubleType(), nullable=True),\n",
    "        StructField(\"cntpmts24_3658933L\", DoubleType(), nullable=True),\n",
    "        StructField(\"commnoinclast6m_3546845L\", DoubleType(), nullable=True),\n",
    "        StructField(\"credamount_770A\", DoubleType(), nullable=True),\n",
    "        StructField(\"credtype_322L\", StringType(), nullable=True),\n",
    "        StructField(\"currdebt_22A\", DoubleType(), nullable=True),\n",
    "        StructField(\"currdebtcredtyperange_828A\", DoubleType(), nullable=True),\n",
    "        StructField(\"datefirstoffer_1144D\", DateType(), nullable=True),\n",
    "        StructField(\"datelastinstal40dpd_247D\", DateType(), nullable=True),\n",
    "        StructField(\"datelastunpaid_3546854D\", DateType(), nullable=True),\n",
    "        StructField(\"daysoverduetolerancedd_3976961L\", DoubleType(), nullable=True),\n",
    "        StructField(\"deferredmnthsnum_166L\", DoubleType(), nullable=True),\n",
    "        StructField(\"disbursedcredamount_1113A\", DoubleType(), nullable=True),\n",
    "        StructField(\"disbursementtype_67L\", StringType(), nullable=True),\n",
    "        StructField(\"downpmt_116A\", DoubleType(), nullable=True),\n",
    "        StructField(\"dtlastpmtallstes_4499206D\", DateType(), nullable=True),\n",
    "        StructField(\"eir_270L\", DoubleType(), nullable=True),\n",
    "        StructField(\"equalitydataagreement_891L\", BooleanType(), nullable=True),\n",
    "        StructField(\"equalityempfrom_62L\", BooleanType(), nullable=True),\n",
    "        StructField(\"firstclxcampaign_1125D\", DateType(), nullable=True),\n",
    "        StructField(\"firstdatedue_489D\", DateType(), nullable=True),\n",
    "        StructField(\"homephncnt_628L\", DoubleType(), nullable=True),\n",
    "        StructField(\"inittransactionamount_650A\", DoubleType(), nullable=True),\n",
    "        StructField(\"inittransactioncode_186L\", StringType(), nullable=True),\n",
    "        StructField(\"interestrate_311L\", DoubleType(), nullable=True),\n",
    "        StructField(\"interestrategrace_34L\", DoubleType(), nullable=True),\n",
    "        StructField(\"isbidproduct_1095L\", BooleanType(), nullable=True),\n",
    "        StructField(\"isbidproductrequest_292L\", BooleanType(), nullable=True),\n",
    "        StructField(\"isdebitcard_729L\", BooleanType(), nullable=True),\n",
    "        StructField(\"lastactivateddate_801D\", DateType(), nullable=True),\n",
    "        StructField(\"lastapplicationdate_877D\", DateType(), nullable=True),\n",
    "        StructField(\"lastapprcommoditycat_1041M\", StringType(), nullable=True),\n",
    "        StructField(\"lastapprcommoditytypec_5251766M\", StringType(), nullable=True),\n",
    "        StructField(\"lastapprcredamount_781A\", DoubleType(), nullable=True),\n",
    "        StructField(\"lastapprdate_640D\", DateType(), nullable=True),\n",
    "        StructField(\"lastcancelreason_561M\", StringType(), nullable=True),\n",
    "        StructField(\"lastdelinqdate_224D\", DateType(), nullable=True),\n",
    "        StructField(\"lastdependentsnum_448L\", DoubleType(), nullable=True),\n",
    "        StructField(\"lastotherinc_902A\", DoubleType(), nullable=True),\n",
    "        StructField(\"lastotherlnsexpense_631A\", DoubleType(), nullable=True),\n",
    "        StructField(\"lastrejectcommoditycat_161M\", StringType(), nullable=True),\n",
    "        StructField(\"lastrejectcommodtypec_5251769M\", StringType(), nullable=True),\n",
    "        StructField(\"lastrejectcredamount_222A\", DoubleType(), nullable=True),\n",
    "        StructField(\"lastrejectdate_50D\", DateType(), nullable=True),\n",
    "        StructField(\"lastrejectreason_759M\", StringType(), nullable=True),\n",
    "        StructField(\"lastrejectreasonclient_4145040M\", StringType(), nullable=True),\n",
    "        StructField(\"lastrepayingdate_696D\", DateType(), nullable=True),\n",
    "        StructField(\"lastst_736L\", StringType(), nullable=True),\n",
    "        StructField(\"maininc_215A\", DoubleType(), nullable=True),\n",
    "        StructField(\"mastercontrelectronic_519L\", DoubleType(), nullable=True),\n",
    "        StructField(\"mastercontrexist_109L\", DoubleType(), nullable=True),\n",
    "        StructField(\"maxannuity_159A\", DoubleType(), nullable=True),\n",
    "        StructField(\"maxannuity_4075009A\", DoubleType(), nullable=True),\n",
    "        StructField(\"maxdbddpdlast1m_3658939P\", DoubleType(), nullable=True),\n",
    "        StructField(\"maxdbddpdtollast12m_3658940P\", DoubleType(), nullable=True),\n",
    "        StructField(\"maxdbddpdtollast6m_4187119P\", DoubleType(), nullable=True),\n",
    "        StructField(\"maxdebt4_972A\", DoubleType(), nullable=True),\n",
    "        StructField(\"maxdpdfrom6mto36m_3546853P\", DoubleType(), nullable=True),\n",
    "        StructField(\"maxdpdinstldate_3546855D\", DateType(), nullable=True),\n",
    "        StructField(\"maxdpdinstlnum_3546846P\", DoubleType(), nullable=True),\n",
    "        StructField(\"maxdpdlast12m_727P\", DoubleType(), nullable=True),\n",
    "        StructField(\"maxdpdlast24m_143P\", DoubleType(), nullable=True),\n",
    "        StructField(\"maxdpdlast3m_392P\", DoubleType(), nullable=True),\n",
    "        StructField(\"maxdpdlast6m_474P\", DoubleType(), nullable=True),\n",
    "        StructField(\"maxdpdlast9m_1059P\", DoubleType(), nullable=True),\n",
    "        StructField(\"maxdpdtolerance_374P\", DoubleType(), nullable=True),\n",
    "        StructField(\"maxinstallast24m_3658928A\", DoubleType(), nullable=True),\n",
    "        StructField(\"maxlnamtstart6m_4525199A\", DoubleType(), nullable=True),\n",
    "        StructField(\"maxoutstandbalancel12m_4187113A\", DoubleType(), nullable=True),\n",
    "        StructField(\"maxpmtlast3m_4525190A\", DoubleType(), nullable=True),\n",
    "        StructField(\"mindbddpdlast24m_3658935P\", DoubleType(), nullable=True),\n",
    "        StructField(\"mindbdtollast24m_4525191P\", DoubleType(), nullable=True),\n",
    "        StructField(\"mobilephncnt_593L\", DoubleType(), nullable=True),\n",
    "        StructField(\"monthsannuity_845L\", DoubleType(), nullable=True),\n",
    "        StructField(\"numactivecreds_622L\", DoubleType(), nullable=True),\n",
    "        StructField(\"numactivecredschannel_414L\", DoubleType(), nullable=True),\n",
    "        StructField(\"numactiverelcontr_750L\", DoubleType(), nullable=True),\n",
    "        StructField(\"numcontrs3months_479L\", DoubleType(), nullable=True),\n",
    "        StructField(\"numincomingpmts_3546848L\", DoubleType(), nullable=True),\n",
    "        StructField(\"numinstlallpaidearly3d_817L\", DoubleType(), nullable=True),\n",
    "        StructField(\"numinstls_657L\", DoubleType(), nullable=True),\n",
    "        StructField(\"numinstlsallpaid_934L\", DoubleType(), nullable=True),\n",
    "        StructField(\"numinstlswithdpd10_728L\", DoubleType(), nullable=True),\n",
    "        StructField(\"numinstlswithdpd5_4187116L\", DoubleType(), nullable=True),\n",
    "        StructField(\"numinstlswithoutdpd_562L\", DoubleType(), nullable=True),\n",
    "        StructField(\"numinstmatpaidtearly2d_4499204L\", DoubleType(), nullable=True),\n",
    "        StructField(\"numinstpaid_4499208L\", DoubleType(), nullable=True),\n",
    "        StructField(\"numinstpaidearly3d_3546850L\", DoubleType(), nullable=True),\n",
    "        StructField(\"numinstpaidearly3dest_4493216L\", DoubleType(), nullable=True),\n",
    "        StructField(\"numinstpaidearly5d_1087L\", DoubleType(), nullable=True),\n",
    "        StructField(\"numinstpaidearly5dest_4493211L\", DoubleType(), nullable=True),\n",
    "        StructField(\"numinstpaidearly5dobd_4499205L\", DoubleType(), nullable=True),\n",
    "        StructField(\"numinstpaidearly_338L\", DoubleType(), nullable=True),\n",
    "        StructField(\"numinstpaidearlyest_4493214L\", DoubleType(), nullable=True),\n",
    "        StructField(\"numinstpaidlastcontr_4325080L\", DoubleType(), nullable=True),\n",
    "        StructField(\"numinstpaidlate1d_3546852L\", DoubleType(), nullable=True),\n",
    "        StructField(\"numinstregularpaid_973L\", DoubleType(), nullable=True),\n",
    "        StructField(\"numinstregularpaidest_4493210L\", DoubleType(), nullable=True),\n",
    "        StructField(\"numinsttopaygr_769L\", DoubleType(), nullable=True),\n",
    "        StructField(\"numinsttopaygrest_4493213L\", DoubleType(), nullable=True),\n",
    "        StructField(\"numinstunpaidmax_3546851L\", DoubleType(), nullable=True),\n",
    "        StructField(\"numinstunpaidmaxest_4493212L\", DoubleType(), nullable=True),\n",
    "        StructField(\"numnotactivated_1143L\", DoubleType(), nullable=True),\n",
    "        StructField(\"numpmtchanneldd_318L\", DoubleType(), nullable=True),\n",
    "        StructField(\"numrejects9m_859L\", DoubleType(), nullable=True),\n",
    "        StructField(\"opencred_647L\", BooleanType(), nullable=True),\n",
    "        StructField(\"paytype1st_925L\", StringType(), nullable=True),\n",
    "        StructField(\"paytype_783L\", StringType(), nullable=True),\n",
    "        StructField(\"payvacationpostpone_4187118D\", DateType(), nullable=True),\n",
    "        StructField(\"pctinstlsallpaidearl3d_427L\", DoubleType(), nullable=True),\n",
    "        StructField(\"pctinstlsallpaidlat10d_839L\", DoubleType(), nullable=True),\n",
    "        StructField(\"pctinstlsallpaidlate1d_3546856L\", DoubleType(), nullable=True),\n",
    "        StructField(\"pctinstlsallpaidlate4d_3546849L\", DoubleType(), nullable=True),\n",
    "        StructField(\"pctinstlsallpaidlate6d_3546844L\", DoubleType(), nullable=True),\n",
    "        StructField(\"pmtnum_254L\", DoubleType(), nullable=True),\n",
    "        StructField(\"posfpd10lastmonth_333P\", DoubleType(), nullable=True),\n",
    "        StructField(\"posfpd30lastmonth_3976960P\", DoubleType(), nullable=True),\n",
    "        StructField(\"posfstqpd30lastmonth_3976962P\", DoubleType(), nullable=True),\n",
    "        StructField(\"previouscontdistrict_112M\", StringType(), nullable=True),\n",
    "        StructField(\"price_1097A\", DoubleType(), nullable=True),\n",
    "        StructField(\"sellerplacecnt_915L\", DoubleType(), nullable=True),\n",
    "        StructField(\"sellerplacescnt_216L\", DoubleType(), nullable=True),\n",
    "        StructField(\"sumoutstandtotal_3546847A\", DoubleType(), nullable=True),\n",
    "        StructField(\"sumoutstandtotalest_4493215A\", DoubleType(), nullable=True),\n",
    "        StructField(\"totaldebt_9A\", DoubleType(), nullable=True),\n",
    "        StructField(\"totalsettled_863A\", DoubleType(), nullable=True),\n",
    "        StructField(\"totinstallast1m_4525188A\", DoubleType(), nullable=True),\n",
    "        StructField(\"twobodfilling_608L\", StringType(), nullable=True),\n",
    "        StructField(\"typesuite_864L\", StringType(), nullable=True),\n",
    "        StructField(\"validfrom_1069D\", DateType(), nullable=True),\n",
    "    ]\n",
    ")\n",
    "\n",
    "schemas[\"credit_bureau_a_1\"] = StructType(\n",
    "    [\n",
    "        StructField(\"case_id\", LongType(), nullable=True),\n",
    "        StructField(\"annualeffectiverate_199L\", DoubleType(), nullable=True),\n",
    "        StructField(\"annualeffectiverate_63L\", DoubleType(), nullable=True),\n",
    "        StructField(\"classificationofcontr_13M\", StringType(), nullable=True),\n",
    "        StructField(\"classificationofcontr_400M\", StringType(), nullable=True),\n",
    "        StructField(\"contractst_545M\", StringType(), nullable=True),\n",
    "        StructField(\"contractst_964M\", StringType(), nullable=True),\n",
    "        StructField(\"contractsum_5085717L\", DoubleType(), nullable=True),\n",
    "        StructField(\"credlmt_230A\", DoubleType(), nullable=True),\n",
    "        StructField(\"credlmt_935A\", DoubleType(), nullable=True),\n",
    "        StructField(\"dateofcredend_289D\", DateType(), nullable=True),\n",
    "        StructField(\"dateofcredend_353D\", DateType(), nullable=True),\n",
    "        StructField(\"dateofcredstart_181D\", DateType(), nullable=True),\n",
    "        StructField(\"dateofcredstart_739D\", DateType(), nullable=True),\n",
    "        StructField(\"dateofrealrepmt_138D\", DateType(), nullable=True),\n",
    "        StructField(\"debtoutstand_525A\", DoubleType(), nullable=True),\n",
    "        StructField(\"debtoverdue_47A\", DoubleType(), nullable=True),\n",
    "        StructField(\"description_351M\", StringType(), nullable=True),\n",
    "        StructField(\"dpdmax_139P\", DoubleType(), nullable=True),\n",
    "        StructField(\"dpdmax_757P\", DoubleType(), nullable=True),\n",
    "        StructField(\"dpdmaxdatemonth_442T\", DoubleType(), nullable=True),\n",
    "        StructField(\"dpdmaxdatemonth_89T\", DoubleType(), nullable=True),\n",
    "        StructField(\"dpdmaxdateyear_596T\", DoubleType(), nullable=True),\n",
    "        StructField(\"dpdmaxdateyear_896T\", DoubleType(), nullable=True),\n",
    "        StructField(\"financialinstitution_382M\", StringType(), nullable=True),\n",
    "        StructField(\"financialinstitution_591M\", StringType(), nullable=True),\n",
    "        StructField(\"instlamount_768A\", DoubleType(), nullable=True),\n",
    "        StructField(\"instlamount_852A\", DoubleType(), nullable=True),\n",
    "        StructField(\"interestrate_508L\", DoubleType(), nullable=True),\n",
    "        StructField(\"lastupdate_1112D\", DateType(), nullable=True),\n",
    "        StructField(\"lastupdate_388D\", DateType(), nullable=True),\n",
    "        StructField(\"monthlyinstlamount_332A\", DoubleType(), nullable=True),\n",
    "        StructField(\"monthlyinstlamount_674A\", DoubleType(), nullable=True),\n",
    "        StructField(\"nominalrate_281L\", DoubleType(), nullable=True),\n",
    "        StructField(\"nominalrate_498L\", DoubleType(), nullable=True),\n",
    "        StructField(\"num_group1\", LongType(), nullable=True),\n",
    "        StructField(\"numberofcontrsvalue_258L\", DoubleType(), nullable=True),\n",
    "        StructField(\"numberofcontrsvalue_358L\", DoubleType(), nullable=True),\n",
    "        StructField(\"numberofinstls_229L\", DoubleType(), nullable=True),\n",
    "        StructField(\"numberofinstls_320L\", DoubleType(), nullable=True),\n",
    "        StructField(\"numberofoutstandinstls_520L\", DoubleType(), nullable=True),\n",
    "        StructField(\"numberofoutstandinstls_59L\", DoubleType(), nullable=True),\n",
    "        StructField(\"numberofoverdueinstlmax_1039L\", DoubleType(), nullable=True),\n",
    "        StructField(\"numberofoverdueinstlmax_1151L\", DoubleType(), nullable=True),\n",
    "        StructField(\"numberofoverdueinstlmaxdat_148D\", DateType(), nullable=True),\n",
    "        StructField(\"numberofoverdueinstlmaxdat_641D\", DateType(), nullable=True),\n",
    "        StructField(\"numberofoverdueinstls_725L\", DoubleType(), nullable=True),\n",
    "        StructField(\"numberofoverdueinstls_834L\", DoubleType(), nullable=True),\n",
    "        StructField(\"outstandingamount_354A\", DoubleType(), nullable=True),\n",
    "        StructField(\"outstandingamount_362A\", DoubleType(), nullable=True),\n",
    "        StructField(\"overdueamount_31A\", DoubleType(), nullable=True),\n",
    "        StructField(\"overdueamount_659A\", DoubleType(), nullable=True),\n",
    "        StructField(\"overdueamountmax2_14A\", DoubleType(), nullable=True),\n",
    "        StructField(\"overdueamountmax2_398A\", DoubleType(), nullable=True),\n",
    "        StructField(\"overdueamountmax2date_1002D\", DateType(), nullable=True),\n",
    "        StructField(\"overdueamountmax2date_1142D\", DateType(), nullable=True),\n",
    "        StructField(\"overdueamountmax_155A\", DoubleType(), nullable=True),\n",
    "        StructField(\"overdueamountmax_35A\", DoubleType(), nullable=True),\n",
    "        StructField(\"overdueamountmaxdatemonth_284T\", DoubleType(), nullable=True),\n",
    "        StructField(\"overdueamountmaxdatemonth_365T\", DoubleType(), nullable=True),\n",
    "        StructField(\"overdueamountmaxdateyear_2T\", DoubleType(), nullable=True),\n",
    "        StructField(\"overdueamountmaxdateyear_994T\", DoubleType(), nullable=True),\n",
    "        StructField(\"periodicityofpmts_1102L\", DoubleType(), nullable=True),\n",
    "        StructField(\"periodicityofpmts_837L\", DoubleType(), nullable=True),\n",
    "        StructField(\"prolongationcount_1120L\", DoubleType(), nullable=True),\n",
    "        StructField(\"prolongationcount_599L\", DoubleType(), nullable=True),\n",
    "        StructField(\"purposeofcred_426M\", StringType(), nullable=True),\n",
    "        StructField(\"purposeofcred_874M\", StringType(), nullable=True),\n",
    "        StructField(\"refreshdate_3813885D\", DateType(), nullable=True),\n",
    "        StructField(\"residualamount_488A\", DoubleType(), nullable=True),\n",
    "        StructField(\"residualamount_856A\", DoubleType(), nullable=True),\n",
    "        StructField(\"subjectrole_182M\", StringType(), nullable=True),\n",
    "        StructField(\"subjectrole_93M\", StringType(), nullable=True),\n",
    "        StructField(\"totalamount_6A\", DoubleType(), nullable=True),\n",
    "        StructField(\"totalamount_996A\", DoubleType(), nullable=True),\n",
    "        StructField(\"totaldebtoverduevalue_178A\", DoubleType(), nullable=True),\n",
    "        StructField(\"totaldebtoverduevalue_718A\", DoubleType(), nullable=True),\n",
    "        StructField(\"totaloutstanddebtvalue_39A\", DoubleType(), nullable=True),\n",
    "        StructField(\"totaloutstanddebtvalue_668A\", DoubleType(), nullable=True),\n",
    "    ]\n",
    ")\n",
    "\n",
    "schemas[\"credit_bureau_a_2\"] = StructType(\n",
    "    [\n",
    "        StructField(\"case_id\", LongType(), nullable=True),\n",
    "        StructField(\"collater_typofvalofguarant_298M\", StringType(), nullable=True),\n",
    "        StructField(\"collater_typofvalofguarant_407M\", StringType(), nullable=True),\n",
    "        StructField(\"collater_valueofguarantee_1124L\", DoubleType(), nullable=True),\n",
    "        StructField(\"collater_valueofguarantee_876L\", DoubleType(), nullable=True),\n",
    "        StructField(\"collaterals_typeofguarante_359M\", StringType(), nullable=True),\n",
    "        StructField(\"collaterals_typeofguarante_669M\", StringType(), nullable=True),\n",
    "        StructField(\"num_group1\", LongType(), nullable=True),\n",
    "        StructField(\"num_group2\", LongType(), nullable=True),\n",
    "        StructField(\"pmts_dpd_1073P\", DoubleType(), nullable=True),\n",
    "        StructField(\"pmts_dpd_303P\", DoubleType(), nullable=True),\n",
    "        StructField(\"pmts_month_158T\", DoubleType(), nullable=True),\n",
    "        StructField(\"pmts_month_706T\", DoubleType(), nullable=True),\n",
    "        StructField(\"pmts_overdue_1140A\", DoubleType(), nullable=True),\n",
    "        StructField(\"pmts_overdue_1152A\", DoubleType(), nullable=True),\n",
    "        StructField(\"pmts_year_1139T\", DoubleType(), nullable=True),\n",
    "        StructField(\"pmts_year_507T\", DoubleType(), nullable=True),\n",
    "        StructField(\"subjectroles_name_541M\", StringType(), nullable=True),\n",
    "        StructField(\"subjectroles_name_838M\", StringType(), nullable=True),\n",
    "    ]\n",
    ")\n",
    "\n",
    "schemas[\"applprev_2\"] = StructType(\n",
    "    [\n",
    "        StructField(\"case_id\", LongType(), nullable=True),\n",
    "        StructField(\"cacccardblochreas_147M\", StringType(), nullable=True),\n",
    "        StructField(\"conts_type_509L\", StringType(), nullable=True),\n",
    "        StructField(\"credacc_cards_status_52L\", StringType(), nullable=True),\n",
    "        StructField(\"num_group1\", LongType(), nullable=True),\n",
    "        StructField(\"num_group2\", LongType(), nullable=True),\n",
    "    ]\n",
    ")\n",
    "\n",
    "schemas[\"base\"] = StructType(\n",
    "    [\n",
    "        StructField(\"case_id\", LongType(), nullable=True),\n",
    "        StructField(\"date_decision\", StringType(), nullable=True),\n",
    "        StructField(\"MONTH\", LongType(), nullable=True),\n",
    "        StructField(\"WEEK_NUM\", LongType(), nullable=True),\n",
    "        StructField(\"target\", LongType(), nullable=True),\n",
    "    ]\n",
    ")\n",
    "\n",
    "schemas[\"credit_bureau_b_1\"] = StructType(\n",
    "    [\n",
    "        StructField(\"case_id\", LongType(), nullable=True),\n",
    "        StructField(\"amount_1115A\", DoubleType(), nullable=True),\n",
    "        StructField(\"classificationofcontr_1114M\", StringType(), nullable=True),\n",
    "        StructField(\"contractdate_551D\", DateType(), nullable=True),\n",
    "        StructField(\"contractmaturitydate_151D\", DateType(), nullable=True),\n",
    "        StructField(\"contractst_516M\", StringType(), nullable=True),\n",
    "        StructField(\"contracttype_653M\", StringType(), nullable=True),\n",
    "        StructField(\"credlmt_1052A\", DoubleType(), nullable=True),\n",
    "        StructField(\"credlmt_228A\", DoubleType(), nullable=True),\n",
    "        StructField(\"credlmt_3940954A\", DoubleType(), nullable=True),\n",
    "        StructField(\"credor_3940957M\", StringType(), nullable=True),\n",
    "        StructField(\"credquantity_1099L\", DoubleType(), nullable=True),\n",
    "        StructField(\"credquantity_984L\", DoubleType(), nullable=True),\n",
    "        StructField(\"debtpastduevalue_732A\", DoubleType(), nullable=True),\n",
    "        StructField(\"debtvalue_227A\", DoubleType(), nullable=True),\n",
    "        StructField(\"dpd_550P\", DoubleType(), nullable=True),\n",
    "        StructField(\"dpd_733P\", DoubleType(), nullable=True),\n",
    "        StructField(\"dpdmax_851P\", DoubleType(), nullable=True),\n",
    "        StructField(\"dpdmaxdatemonth_804T\", DoubleType(), nullable=True),\n",
    "        StructField(\"dpdmaxdateyear_742T\", DoubleType(), nullable=True),\n",
    "        StructField(\"installmentamount_644A\", DoubleType(), nullable=True),\n",
    "        StructField(\"installmentamount_833A\", DoubleType(), nullable=True),\n",
    "        StructField(\"instlamount_892A\", DoubleType(), nullable=True),\n",
    "        StructField(\"interesteffectiverate_369L\", DoubleType(), nullable=True),\n",
    "        StructField(\"interestrateyearly_538L\", DoubleType(), nullable=True),\n",
    "        StructField(\"lastupdate_260D\", DateType(), nullable=True),\n",
    "        StructField(\"maxdebtpduevalodued_3940955A\", DoubleType(), nullable=True),\n",
    "        StructField(\"num_group1\", LongType(), nullable=True),\n",
    "        StructField(\"numberofinstls_810L\", DoubleType(), nullable=True),\n",
    "        StructField(\"overdueamountmax_950A\", DoubleType(), nullable=True),\n",
    "        StructField(\"overdueamountmaxdatemonth_494T\", DoubleType(), nullable=True),\n",
    "        StructField(\"overdueamountmaxdateyear_432T\", DoubleType(), nullable=True),\n",
    "        StructField(\"periodicityofpmts_997L\", StringType(), nullable=True),\n",
    "        StructField(\"periodicityofpmts_997M\", StringType(), nullable=True),\n",
    "        StructField(\"pmtdaysoverdue_1135P\", DoubleType(), nullable=True),\n",
    "        StructField(\"pmtmethod_731M\", StringType(), nullable=True),\n",
    "        StructField(\"pmtnumpending_403L\", DoubleType(), nullable=True),\n",
    "        StructField(\"purposeofcred_722M\", StringType(), nullable=True),\n",
    "        StructField(\"residualamount_1093A\", DoubleType(), nullable=True),\n",
    "        StructField(\"residualamount_127A\", DoubleType(), nullable=True),\n",
    "        StructField(\"residualamount_3940956A\", DoubleType(), nullable=True),\n",
    "        StructField(\"subjectrole_326M\", StringType(), nullable=True),\n",
    "        StructField(\"subjectrole_43M\", StringType(), nullable=True),\n",
    "        StructField(\"totalamount_503A\", DoubleType(), nullable=True),\n",
    "        StructField(\"totalamount_881A\", DoubleType(), nullable=True),\n",
    "    ]\n",
    ")\n",
    "\n",
    "\n",
    "schemas[\"credit_bureau_b_2\"] = StructType(\n",
    "    [\n",
    "        StructField(\"case_id\", LongType(), nullable=True),\n",
    "        StructField(\"num_group1\", LongType(), nullable=True),\n",
    "        StructField(\"num_group2\", LongType(), nullable=True),\n",
    "        StructField(\"pmts_date_1107D\", DateType(), nullable=True),\n",
    "        StructField(\"pmts_dpdvalue_108P\", DoubleType(), nullable=True),\n",
    "        StructField(\"pmts_pmtsoverdue_635A\", DoubleType(), nullable=True),\n",
    "    ]\n",
    ")\n",
    "\n",
    "schemas[\"debitcard_1\"] = StructType(\n",
    "    [\n",
    "        StructField(\"case_id\", LongType(), nullable=True),\n",
    "        StructField(\"last180dayaveragebalance_704A\", DoubleType(), nullable=True),\n",
    "        StructField(\"last180dayturnover_1134A\", DoubleType(), nullable=True),\n",
    "        StructField(\"last30dayturnover_651A\", DoubleType(), nullable=True),\n",
    "        StructField(\"num_group1\", LongType(), nullable=True),\n",
    "        StructField(\"openingdate_857D\", DateType(), nullable=True),\n",
    "    ]\n",
    ")\n",
    "\n",
    "schemas[\"deposit_1\"] = StructType(\n",
    "    [\n",
    "        StructField(\"case_id\", LongType(), nullable=True),\n",
    "        StructField(\"amount_416A\", DoubleType(), nullable=True),\n",
    "        StructField(\"contractenddate_991D\", DateType(), nullable=True),\n",
    "        StructField(\"num_group1\", LongType(), nullable=True),\n",
    "        StructField(\"openingdate_313D\", DateType(), nullable=True),\n",
    "    ]\n",
    ")\n",
    "\n",
    "schemas[\"other_1\"] = StructType(\n",
    "    [\n",
    "        StructField(\"case_id\", LongType(), nullable=True),\n",
    "        StructField(\"amtdebitincoming_4809443A\", DoubleType(), nullable=True),\n",
    "        StructField(\"amtdebitoutgoing_4809440A\", DoubleType(), nullable=True),\n",
    "        StructField(\"amtdepositbalance_4809441A\", DoubleType(), nullable=True),\n",
    "        StructField(\"amtdepositincoming_4809444A\", DoubleType(), nullable=True),\n",
    "        StructField(\"amtdepositoutgoing_4809442A\", DoubleType(), nullable=True),\n",
    "        StructField(\"num_group1\", LongType(), nullable=True),\n",
    "    ]\n",
    ")\n",
    "\n",
    "schemas[\"person_1\"] = StructType(\n",
    "    [\n",
    "        StructField(\"case_id\", LongType(), nullable=True),\n",
    "        StructField(\"birth_259D\", DateType(), nullable=True),\n",
    "        StructField(\"birthdate_87D\", DateType(), nullable=True),\n",
    "        StructField(\"childnum_185L\", DoubleType(), nullable=True),\n",
    "        StructField(\"contaddr_district_15M\", StringType(), nullable=True),\n",
    "        StructField(\"contaddr_matchlist_1032L\", BooleanType(), nullable=True),\n",
    "        StructField(\"contaddr_smempladdr_334L\", BooleanType(), nullable=True),\n",
    "        StructField(\"contaddr_zipcode_807M\", StringType(), nullable=True),\n",
    "        StructField(\"education_927M\", StringType(), nullable=True),\n",
    "        StructField(\"empl_employedfrom_271D\", DateType(), nullable=True),\n",
    "        StructField(\"empl_employedtotal_800L\", StringType(), nullable=True),\n",
    "        StructField(\"empl_industry_691L\", StringType(), nullable=True),\n",
    "        StructField(\"empladdr_district_926M\", StringType(), nullable=True),\n",
    "        StructField(\"empladdr_zipcode_114M\", StringType(), nullable=True),\n",
    "        StructField(\"familystate_447L\", StringType(), nullable=True),\n",
    "        StructField(\"gender_992L\", StringType(), nullable=True),\n",
    "        StructField(\"housetype_905L\", StringType(), nullable=True),\n",
    "        StructField(\"housingtype_772L\", StringType(), nullable=True),\n",
    "        StructField(\"incometype_1044T\", StringType(), nullable=True),\n",
    "        StructField(\"isreference_387L\", BooleanType(), nullable=True),\n",
    "        StructField(\"language1_981M\", StringType(), nullable=True),\n",
    "        StructField(\"mainoccupationinc_384A\", DoubleType(), nullable=True),\n",
    "        StructField(\"maritalst_703L\", StringType(), nullable=True),\n",
    "        StructField(\"num_group1\", LongType(), nullable=True),\n",
    "        StructField(\"personindex_1023L\", DoubleType(), nullable=True),\n",
    "        StructField(\"persontype_1072L\", DoubleType(), nullable=True),\n",
    "        StructField(\"persontype_792L\", DoubleType(), nullable=True),\n",
    "        StructField(\"registaddr_district_1083M\", StringType(), nullable=True),\n",
    "        StructField(\"registaddr_zipcode_184M\", StringType(), nullable=True),\n",
    "        StructField(\"relationshiptoclient_415T\", StringType(), nullable=True),\n",
    "        StructField(\"relationshiptoclient_642T\", StringType(), nullable=True),\n",
    "        StructField(\"remitter_829L\", BooleanType(), nullable=True),\n",
    "        StructField(\"role_1084L\", StringType(), nullable=True),\n",
    "        StructField(\"role_993L\", StringType(), nullable=True),\n",
    "        StructField(\"safeguarantyflag_411L\", BooleanType(), nullable=True),\n",
    "        StructField(\"sex_738L\", StringType(), nullable=True),\n",
    "        StructField(\"type_25L\", StringType(), nullable=True),\n",
    "    ]\n",
    ")\n",
    "\n",
    "schemas[\"person_2\"] = StructType(\n",
    "    [\n",
    "        StructField(\"case_id\", LongType(), nullable=True),\n",
    "        StructField(\"addres_district_368M\", StringType(), nullable=True),\n",
    "        StructField(\"addres_role_871L\", StringType(), nullable=True),\n",
    "        StructField(\"addres_zip_823M\", StringType(), nullable=True),\n",
    "        StructField(\"conts_role_79M\", StringType(), nullable=True),\n",
    "        StructField(\"empls_economicalst_849M\", StringType(), nullable=True),\n",
    "        StructField(\"empls_employedfrom_796D\", DateType(), nullable=True),\n",
    "        StructField(\"empls_employer_name_740M\", StringType(), nullable=True),\n",
    "        StructField(\"num_group1\", LongType(), nullable=True),\n",
    "        StructField(\"num_group2\", LongType(), nullable=True),\n",
    "        StructField(\"relatedpersons_role_762T\", StringType(), nullable=True),\n",
    "    ]\n",
    ")\n",
    "\n",
    "schemas[\"static_cb_0\"] = StructType(\n",
    "    [\n",
    "        StructField(\"case_id\", LongType(), nullable=True),\n",
    "        StructField(\"assignmentdate_238D\", DateType(), nullable=True),\n",
    "        StructField(\"assignmentdate_4527235D\", DateType(), nullable=True),\n",
    "        StructField(\"assignmentdate_4955616D\", DateType(), nullable=True),\n",
    "        StructField(\"birthdate_574D\", DateType(), nullable=True),\n",
    "        StructField(\"contractssum_5085716L\", DoubleType(), nullable=True),\n",
    "        StructField(\"dateofbirth_337D\", DateType(), nullable=True),\n",
    "        StructField(\"dateofbirth_342D\", DateType(), nullable=True),\n",
    "        StructField(\"days120_123L\", DoubleType(), nullable=True),\n",
    "        StructField(\"days180_256L\", DoubleType(), nullable=True),\n",
    "        StructField(\"days30_165L\", DoubleType(), nullable=True),\n",
    "        StructField(\"days360_512L\", DoubleType(), nullable=True),\n",
    "        StructField(\"days90_310L\", DoubleType(), nullable=True),\n",
    "        StructField(\"description_5085714M\", StringType(), nullable=True),\n",
    "        StructField(\"education_1103M\", StringType(), nullable=True),\n",
    "        StructField(\"education_88M\", StringType(), nullable=True),\n",
    "        StructField(\"firstquarter_103L\", DoubleType(), nullable=True),\n",
    "        StructField(\"for3years_128L\", DoubleType(), nullable=True),\n",
    "        StructField(\"for3years_504L\", DoubleType(), nullable=True),\n",
    "        StructField(\"for3years_584L\", DoubleType(), nullable=True),\n",
    "        StructField(\"formonth_118L\", DoubleType(), nullable=True),\n",
    "        StructField(\"formonth_206L\", DoubleType(), nullable=True),\n",
    "        StructField(\"formonth_535L\", DoubleType(), nullable=True),\n",
    "        StructField(\"forquarter_1017L\", DoubleType(), nullable=True),\n",
    "        StructField(\"forquarter_462L\", DoubleType(), nullable=True),\n",
    "        StructField(\"forquarter_634L\", DoubleType(), nullable=True),\n",
    "        StructField(\"fortoday_1092L\", DoubleType(), nullable=True),\n",
    "        StructField(\"forweek_1077L\", DoubleType(), nullable=True),\n",
    "        StructField(\"forweek_528L\", DoubleType(), nullable=True),\n",
    "        StructField(\"forweek_601L\", DoubleType(), nullable=True),\n",
    "        StructField(\"foryear_618L\", DoubleType(), nullable=True),\n",
    "        StructField(\"foryear_818L\", DoubleType(), nullable=True),\n",
    "        StructField(\"foryear_850L\", DoubleType(), nullable=True),\n",
    "        StructField(\"fourthquarter_440L\", DoubleType(), nullable=True),\n",
    "        StructField(\"maritalst_385M\", StringType(), nullable=True),\n",
    "        StructField(\"maritalst_893M\", StringType(), nullable=True),\n",
    "        StructField(\"numberofqueries_373L\", DoubleType(), nullable=True),\n",
    "        StructField(\"pmtaverage_3A\", DoubleType(), nullable=True),\n",
    "        StructField(\"pmtaverage_4527227A\", DoubleType(), nullable=True),\n",
    "        StructField(\"pmtaverage_4955615A\", DoubleType(), nullable=True),\n",
    "        StructField(\"pmtcount_4527229L\", DoubleType(), nullable=True),\n",
    "        StructField(\"pmtcount_4955617L\", DoubleType(), nullable=True),\n",
    "        StructField(\"pmtcount_693L\", DoubleType(), nullable=True),\n",
    "        StructField(\"pmtscount_423L\", DoubleType(), nullable=True),\n",
    "        StructField(\"pmtssum_45A\", DoubleType(), nullable=True),\n",
    "        StructField(\"requesttype_4525192L\", StringType(), nullable=True),\n",
    "        StructField(\"responsedate_1012D\", DateType(), nullable=True),\n",
    "        StructField(\"responsedate_4527233D\", DateType(), nullable=True),\n",
    "        StructField(\"responsedate_4917613D\", DateType(), nullable=True),\n",
    "        StructField(\"riskassesment_302T\", StringType(), nullable=True),\n",
    "        StructField(\"riskassesment_940T\", DoubleType(), nullable=True),\n",
    "        StructField(\"secondquarter_766L\", DoubleType(), nullable=True),\n",
    "        StructField(\"thirdquarter_1082L\", DoubleType(), nullable=True),\n",
    "    ]\n",
    ")\n",
    "\n",
    "schemas[\"tax_registry_a_1\"] = StructType(\n",
    "    [\n",
    "        StructField(\"case_id\", LongType(), nullable=True),\n",
    "        StructField(\"amount_4527230A\", DoubleType(), nullable=True),\n",
    "        StructField(\"name_4527232M\", StringType(), nullable=True),\n",
    "        StructField(\"num_group1\", LongType(), nullable=True),\n",
    "        StructField(\"recorddate_4527225D\", DateType(), nullable=True),\n",
    "    ]\n",
    ")\n",
    "\n",
    "schemas[\"tax_registry_b_1\"] = StructType(\n",
    "    [\n",
    "        StructField(\"case_id\", LongType(), nullable=True),\n",
    "        StructField(\"amount_4917619A\", DoubleType(), nullable=True),\n",
    "        StructField(\"deductiondate_4917603D\", DateType(), nullable=True),\n",
    "        StructField(\"name_4917606M\", StringType(), nullable=True),\n",
    "        StructField(\"num_group1\", LongType(), nullable=True),\n",
    "    ]\n",
    ")\n",
    "\n",
    "schemas[\"tax_registry_c_1\"] = StructType(\n",
    "    [\n",
    "        StructField(\"case_id\", LongType(), nullable=True),\n",
    "        StructField(\"employername_160M\", StringType(), nullable=True),\n",
    "        StructField(\"num_group1\", LongType(), nullable=True),\n",
    "        StructField(\"pmtamount_36A\", DoubleType(), nullable=True),\n",
    "        StructField(\"processingdate_168D\", DateType(), nullable=True),\n",
    "    ]\n",
    ")"
   ]
  },
  {
   "cell_type": "code",
   "execution_count": 7,
   "metadata": {
    "tags": []
   },
   "outputs": [],
   "source": [
    "def get_correct_schema_and_f_name(path):\n",
    "    # Split core file name from path\n",
    "    f_name = path.split(\"/\")[-1].split(\".\")[0].split(\"_\", 1)[1]\n",
    "\n",
    "    # Get matchin schema key\n",
    "    matching_keys = [x for x in list(schemas.keys()) if x in f_name]\n",
    "    assert len(matching_keys) == 1, \"Should be exactly 1 match. Returned: \" + str(\n",
    "        matching_keys\n",
    "    )\n",
    "    k = matching_keys[0]\n",
    "\n",
    "    return (f_name, schemas[k], k)"
   ]
  },
  {
   "cell_type": "code",
   "execution_count": 8,
   "metadata": {
    "tags": []
   },
   "outputs": [],
   "source": [
    "def read_data():\n",
    "    # Read files into Spark DataFrame\n",
    "    d_df = {}\n",
    "    for path in train_files:\n",
    "        (f_name, schema, k) = get_correct_schema_and_f_name(path)\n",
    "\n",
    "        #         print(f_name, k)\n",
    "\n",
    "        d_df[f_name] = spark.read.schema(schema).parquet(\n",
    "            path, header=True, inferSchema=False\n",
    "        )\n",
    "\n",
    "    ## Concat similar DataFrames into one\n",
    "    # applprev_1\n",
    "    d_df[\"applprev_1\"] = d_df[\"applprev_1_0\"].union(d_df[\"applprev_1_1\"])\n",
    "    del d_df[\"applprev_1_0\"], d_df[\"applprev_1_1\"]\n",
    "\n",
    "    # static_0\n",
    "    d_df[\"static_0\"] = d_df[\"static_0_0\"].union(d_df[\"static_0_1\"])\n",
    "    del d_df[\"static_0_0\"], d_df[\"static_0_1\"]\n",
    "\n",
    "    # credit_bureau_a_1\n",
    "    d_df[\"credit_bureau_a_1\"] = (\n",
    "        d_df[\"credit_bureau_a_1_0\"]\n",
    "        .union(d_df[\"credit_bureau_a_1_1\"])\n",
    "        .union(d_df[\"credit_bureau_a_1_2\"])\n",
    "        .union(d_df[\"credit_bureau_a_1_3\"])\n",
    "    )\n",
    "    del (\n",
    "        d_df[\"credit_bureau_a_1_0\"],\n",
    "        d_df[\"credit_bureau_a_1_1\"],\n",
    "        d_df[\"credit_bureau_a_1_2\"],\n",
    "        d_df[\"credit_bureau_a_1_3\"],\n",
    "    )\n",
    "\n",
    "    # credit_bureau_a_2\n",
    "    d_df[\"credit_bureau_a_2\"] = (\n",
    "        d_df[\"credit_bureau_a_2_0\"]\n",
    "        .union(d_df[\"credit_bureau_a_2_1\"])\n",
    "        .union(d_df[\"credit_bureau_a_2_2\"])\n",
    "        .union(d_df[\"credit_bureau_a_2_3\"])\n",
    "        .union(d_df[\"credit_bureau_a_2_4\"])\n",
    "        .union(d_df[\"credit_bureau_a_2_5\"])\n",
    "        .union(d_df[\"credit_bureau_a_2_6\"])\n",
    "        .union(d_df[\"credit_bureau_a_2_7\"])\n",
    "        .union(d_df[\"credit_bureau_a_2_8\"])\n",
    "        .union(d_df[\"credit_bureau_a_2_9\"])\n",
    "        .union(d_df[\"credit_bureau_a_2_10\"])\n",
    "    )\n",
    "    del (\n",
    "        d_df[\"credit_bureau_a_2_0\"],\n",
    "        d_df[\"credit_bureau_a_2_1\"],\n",
    "        d_df[\"credit_bureau_a_2_2\"],\n",
    "        d_df[\"credit_bureau_a_2_3\"],\n",
    "        d_df[\"credit_bureau_a_2_4\"],\n",
    "        d_df[\"credit_bureau_a_2_5\"],\n",
    "        d_df[\"credit_bureau_a_2_6\"],\n",
    "        d_df[\"credit_bureau_a_2_7\"],\n",
    "        d_df[\"credit_bureau_a_2_8\"],\n",
    "        d_df[\"credit_bureau_a_2_9\"],\n",
    "        d_df[\"credit_bureau_a_2_10\"],\n",
    "    )\n",
    "\n",
    "    return d_df"
   ]
  },
  {
   "cell_type": "code",
   "execution_count": 9,
   "metadata": {
    "tags": []
   },
   "outputs": [],
   "source": [
    "d_df = read_data()"
   ]
  },
  {
   "cell_type": "markdown",
   "metadata": {},
   "source": [
    "## Compare distributions"
   ]
  },
  {
   "cell_type": "code",
   "execution_count": 10,
   "metadata": {
    "tags": []
   },
   "outputs": [],
   "source": [
    "from scipy.stats import ks_2samp"
   ]
  },
  {
   "cell_type": "code",
   "execution_count": 11,
   "metadata": {
    "tags": []
   },
   "outputs": [],
   "source": [
    "def prepare_dfs(df_new, df_base):\n",
    "    df_joined = df_new.join(df_base[[\"case_id\", \"target\"]], \"case_id\", \"left\")\n",
    "\n",
    "    # Columns which are not used for features\n",
    "    cols = df_joined.columns\n",
    "    cols.remove(\"case_id\")\n",
    "    cols.remove(\"target\")\n",
    "\n",
    "    # num_group* cols\n",
    "    cols_num_group = [x for x in df_joined.columns if \"num_group\" in x]\n",
    "    for _col in cols_num_group:\n",
    "        cols.remove(_col)\n",
    "\n",
    "    return (df_joined, cols)\n",
    "\n",
    "\n",
    "def select_cols_and_convert_to_pandas(df_joined, _col):\n",
    "    t5 = df_joined[[_col, \"target\"]]\n",
    "    df = t5.toPandas()\n",
    "\n",
    "    return df\n",
    "\n",
    "\n",
    "def factorize(dfp, _col):\n",
    "    labels, uniques = pd.factorize(dfp[_col])\n",
    "    col_fac = f\"factorized_{_col}\"\n",
    "    dfp[col_fac] = labels\n",
    "\n",
    "    return (dfp, col_fac)"
   ]
  },
  {
   "cell_type": "code",
   "execution_count": 12,
   "metadata": {
    "tags": []
   },
   "outputs": [],
   "source": [
    "def is_col_valid(df, _col):\n",
    "    # Some col types not working right now\n",
    "    dtype = df[[_col]].dtypes[0][1]\n",
    "    if dtype == \"date\":\n",
    "        return False\n",
    "    elif dtype == \"boolean\":\n",
    "        return False\n",
    "    else:\n",
    "        return True"
   ]
  },
  {
   "cell_type": "code",
   "execution_count": 14,
   "metadata": {
    "scrolled": true,
    "tags": []
   },
   "outputs": [
    {
     "name": "stdout",
     "output_type": "stream",
     "text": [
      "Key credit_bureau_a_2\n",
      "Col collater_typofvalofguarant_298M\n"
     ]
    },
    {
     "name": "stderr",
     "output_type": "stream",
     "text": [
      "                                                                                \r"
     ]
    },
    {
     "name": "stdout",
     "output_type": "stream",
     "text": [
      "Col collater_typofvalofguarant_407M\n"
     ]
    },
    {
     "name": "stderr",
     "output_type": "stream",
     "text": [
      "                                                                                \r"
     ]
    },
    {
     "name": "stdout",
     "output_type": "stream",
     "text": [
      "Col collater_valueofguarantee_1124L\n"
     ]
    },
    {
     "name": "stderr",
     "output_type": "stream",
     "text": [
      "                                                                                \r"
     ]
    },
    {
     "name": "stdout",
     "output_type": "stream",
     "text": [
      "Col collater_valueofguarantee_876L\n"
     ]
    },
    {
     "name": "stderr",
     "output_type": "stream",
     "text": [
      "                                                                                \r"
     ]
    },
    {
     "name": "stdout",
     "output_type": "stream",
     "text": [
      "Col collaterals_typeofguarante_359M\n"
     ]
    },
    {
     "name": "stderr",
     "output_type": "stream",
     "text": [
      "                                                                                \r"
     ]
    },
    {
     "name": "stdout",
     "output_type": "stream",
     "text": [
      "Col collaterals_typeofguarante_669M\n"
     ]
    },
    {
     "name": "stderr",
     "output_type": "stream",
     "text": [
      "                                                                                \r"
     ]
    },
    {
     "name": "stdout",
     "output_type": "stream",
     "text": [
      "Col pmts_dpd_1073P\n"
     ]
    },
    {
     "name": "stderr",
     "output_type": "stream",
     "text": [
      "                                                                                \r"
     ]
    },
    {
     "name": "stdout",
     "output_type": "stream",
     "text": [
      "Col pmts_dpd_303P\n"
     ]
    },
    {
     "name": "stderr",
     "output_type": "stream",
     "text": [
      "                                                                                \r"
     ]
    },
    {
     "name": "stdout",
     "output_type": "stream",
     "text": [
      "Col pmts_month_158T\n"
     ]
    },
    {
     "name": "stderr",
     "output_type": "stream",
     "text": [
      "                                                                                \r"
     ]
    },
    {
     "name": "stdout",
     "output_type": "stream",
     "text": [
      "Col pmts_month_706T\n"
     ]
    },
    {
     "name": "stderr",
     "output_type": "stream",
     "text": [
      "                                                                                \r"
     ]
    },
    {
     "name": "stdout",
     "output_type": "stream",
     "text": [
      "Col pmts_overdue_1140A\n"
     ]
    },
    {
     "name": "stderr",
     "output_type": "stream",
     "text": [
      "                                                                                \r"
     ]
    },
    {
     "name": "stdout",
     "output_type": "stream",
     "text": [
      "Col pmts_overdue_1152A\n"
     ]
    },
    {
     "name": "stderr",
     "output_type": "stream",
     "text": [
      "                                                                                \r"
     ]
    },
    {
     "name": "stdout",
     "output_type": "stream",
     "text": [
      "Col pmts_year_1139T\n"
     ]
    },
    {
     "name": "stderr",
     "output_type": "stream",
     "text": [
      "                                                                                \r"
     ]
    },
    {
     "name": "stdout",
     "output_type": "stream",
     "text": [
      "Col pmts_year_507T\n"
     ]
    },
    {
     "name": "stderr",
     "output_type": "stream",
     "text": [
      "                                                                                \r"
     ]
    },
    {
     "name": "stdout",
     "output_type": "stream",
     "text": [
      "Col subjectroles_name_541M\n"
     ]
    },
    {
     "name": "stderr",
     "output_type": "stream",
     "text": [
      "                                                                                \r"
     ]
    },
    {
     "name": "stdout",
     "output_type": "stream",
     "text": [
      "Col subjectroles_name_838M\n"
     ]
    },
    {
     "name": "stderr",
     "output_type": "stream",
     "text": [
      "                                                                                \r"
     ]
    }
   ],
   "source": [
    "# ks_2samp_results = []\n",
    "\n",
    "# # for key in d_df.keys():\n",
    "# for key in ['credit_bureau_a_2']:\n",
    "#     # key = \"credit_bureau_a_2\"\n",
    "#     print(\"Key\", key)\n",
    "\n",
    "#     # Base is where target is\n",
    "#     if key != \"base\":\n",
    "#         df_joined, cols = prepare_dfs(d_df[key], d_df[\"base\"])\n",
    "\n",
    "#         for _col in cols:\n",
    "#             print(\"Col\", _col)\n",
    "#             if is_col_valid(df_joined, _col):\n",
    "#                 dfp = select_cols_and_convert_to_pandas(df_joined, _col)\n",
    "\n",
    "#                 is_col_str = df_joined[[_col]].dtypes[0][1] == \"string\"\n",
    "\n",
    "#                 col_selected = _col\n",
    "#                 if is_col_str:\n",
    "#                     dfp, col_fac = factorize(dfp, _col)\n",
    "#                     col_selected = col_fac\n",
    "\n",
    "#                 # Split 0 and 1\n",
    "#                 dfp_0 = dfp[dfp[\"target\"] == 0]\n",
    "#                 dfp_1 = dfp[dfp[\"target\"] == 1]\n",
    "\n",
    "#                 # Compare distributions\n",
    "#                 res = ks_2samp(dfp_0[col_selected], dfp_1[col_selected])\n",
    "\n",
    "#                 del dfp\n",
    "                \n",
    "#                 ks_2samp_results.append(\n",
    "#                     {\n",
    "#                         \"key\": key,\n",
    "#                         \"col\": _col,\n",
    "#                         \"statistic\": res.statistic,\n",
    "#                         \"pvalue\": res.pvalue,\n",
    "#                         \"statistic_location\": res.statistic_location,\n",
    "#                         \"statistic_sign\": res.statistic_sign,\n",
    "#                     }\n",
    "#                 )\n",
    "#                 t5 = pd.DataFrame.from_dict(ks_2samp_results)\n",
    "#                 t5.to_csv(\"ks_2samp_results_credit_bureau_a_2.csv\", index=False)"
   ]
  },
  {
   "cell_type": "code",
   "execution_count": null,
   "metadata": {},
   "outputs": [],
   "source": [
    "c"
   ]
  },
  {
   "cell_type": "code",
   "execution_count": 24,
   "metadata": {
    "tags": []
   },
   "outputs": [],
   "source": [
    "def read_ks_2samp_results():\n",
    "    \"\"\"\n",
    "    Ran these separately as memory issues arrised when running `credit_bureau_a_2` after others\n",
    "    \"\"\"\n",
    "    df_1 = pd.read_csv('ks_2samp_results_credit_bureau_a_2-Copy1.csv')\n",
    "    df_2 = pd.read_csv('ks_2samp_results-Copy2.csv')\n",
    "    \n",
    "    df = pd.concat([df_1, df_2], axis=0).reset_index(drop=True)\n",
    "    \n",
    "    return df.sort_values('statistic', ascending=False)"
   ]
  },
  {
   "cell_type": "code",
   "execution_count": 25,
   "metadata": {
    "tags": []
   },
   "outputs": [],
   "source": [
    "df_ks_res = read_ks_2samp_results()"
   ]
  },
  {
   "cell_type": "code",
   "execution_count": 27,
   "metadata": {
    "tags": []
   },
   "outputs": [
    {
     "data": {
      "text/html": [
       "<div>\n",
       "<style scoped>\n",
       "    .dataframe tbody tr th:only-of-type {\n",
       "        vertical-align: middle;\n",
       "    }\n",
       "\n",
       "    .dataframe tbody tr th {\n",
       "        vertical-align: top;\n",
       "    }\n",
       "\n",
       "    .dataframe thead th {\n",
       "        text-align: right;\n",
       "    }\n",
       "</style>\n",
       "<table border=\"1\" class=\"dataframe\">\n",
       "  <thead>\n",
       "    <tr style=\"text-align: right;\">\n",
       "      <th></th>\n",
       "      <th>key</th>\n",
       "      <th>col</th>\n",
       "      <th>statistic</th>\n",
       "      <th>pvalue</th>\n",
       "      <th>statistic_location</th>\n",
       "      <th>statistic_sign</th>\n",
       "    </tr>\n",
       "  </thead>\n",
       "  <tbody>\n",
       "    <tr>\n",
       "      <th>377</th>\n",
       "      <td>credit_bureau_a_1</td>\n",
       "      <td>overdueamountmax_35A</td>\n",
       "      <td>0.091823</td>\n",
       "      <td>0.000000</td>\n",
       "      <td>478.58798</td>\n",
       "      <td>1</td>\n",
       "    </tr>\n",
       "    <tr>\n",
       "      <th>375</th>\n",
       "      <td>credit_bureau_a_1</td>\n",
       "      <td>overdueamountmax2_398A</td>\n",
       "      <td>0.091374</td>\n",
       "      <td>0.000000</td>\n",
       "      <td>632.59000</td>\n",
       "      <td>1</td>\n",
       "    </tr>\n",
       "    <tr>\n",
       "      <th>367</th>\n",
       "      <td>credit_bureau_a_1</td>\n",
       "      <td>numberofoverdueinstlmax_1151L</td>\n",
       "      <td>0.091176</td>\n",
       "      <td>0.000000</td>\n",
       "      <td>5.00000</td>\n",
       "      <td>1</td>\n",
       "    </tr>\n",
       "    <tr>\n",
       "      <th>346</th>\n",
       "      <td>credit_bureau_a_1</td>\n",
       "      <td>dpdmax_757P</td>\n",
       "      <td>0.090952</td>\n",
       "      <td>0.000000</td>\n",
       "      <td>4.00000</td>\n",
       "      <td>1</td>\n",
       "    </tr>\n",
       "    <tr>\n",
       "      <th>350</th>\n",
       "      <td>credit_bureau_a_1</td>\n",
       "      <td>dpdmaxdateyear_896T</td>\n",
       "      <td>0.076606</td>\n",
       "      <td>0.000000</td>\n",
       "      <td>2017.00000</td>\n",
       "      <td>1</td>\n",
       "    </tr>\n",
       "    <tr>\n",
       "      <th>...</th>\n",
       "      <td>...</td>\n",
       "      <td>...</td>\n",
       "      <td>...</td>\n",
       "      <td>...</td>\n",
       "      <td>...</td>\n",
       "      <td>...</td>\n",
       "    </tr>\n",
       "    <tr>\n",
       "      <th>355</th>\n",
       "      <td>credit_bureau_a_1</td>\n",
       "      <td>interestrate_508L</td>\n",
       "      <td>0.001752</td>\n",
       "      <td>0.113450</td>\n",
       "      <td>48.00000</td>\n",
       "      <td>1</td>\n",
       "    </tr>\n",
       "    <tr>\n",
       "      <th>360</th>\n",
       "      <td>credit_bureau_a_1</td>\n",
       "      <td>numberofcontrsvalue_258L</td>\n",
       "      <td>0.001292</td>\n",
       "      <td>0.415885</td>\n",
       "      <td>19.00000</td>\n",
       "      <td>-1</td>\n",
       "    </tr>\n",
       "    <tr>\n",
       "      <th>391</th>\n",
       "      <td>credit_bureau_a_1</td>\n",
       "      <td>subjectrole_93M</td>\n",
       "      <td>0.001000</td>\n",
       "      <td>0.738371</td>\n",
       "      <td>1.00000</td>\n",
       "      <td>-1</td>\n",
       "    </tr>\n",
       "    <tr>\n",
       "      <th>395</th>\n",
       "      <td>credit_bureau_a_1</td>\n",
       "      <td>totaldebtoverduevalue_718A</td>\n",
       "      <td>0.000220</td>\n",
       "      <td>1.000000</td>\n",
       "      <td>2950.00000</td>\n",
       "      <td>1</td>\n",
       "    </tr>\n",
       "    <tr>\n",
       "      <th>397</th>\n",
       "      <td>credit_bureau_a_1</td>\n",
       "      <td>totaloutstanddebtvalue_668A</td>\n",
       "      <td>0.000065</td>\n",
       "      <td>1.000000</td>\n",
       "      <td>13045.64000</td>\n",
       "      <td>1</td>\n",
       "    </tr>\n",
       "  </tbody>\n",
       "</table>\n",
       "<p>65 rows × 6 columns</p>\n",
       "</div>"
      ],
      "text/plain": [
       "                   key                            col  statistic    pvalue  \\\n",
       "377  credit_bureau_a_1           overdueamountmax_35A   0.091823  0.000000   \n",
       "375  credit_bureau_a_1         overdueamountmax2_398A   0.091374  0.000000   \n",
       "367  credit_bureau_a_1  numberofoverdueinstlmax_1151L   0.091176  0.000000   \n",
       "346  credit_bureau_a_1                    dpdmax_757P   0.090952  0.000000   \n",
       "350  credit_bureau_a_1            dpdmaxdateyear_896T   0.076606  0.000000   \n",
       "..                 ...                            ...        ...       ...   \n",
       "355  credit_bureau_a_1              interestrate_508L   0.001752  0.113450   \n",
       "360  credit_bureau_a_1       numberofcontrsvalue_258L   0.001292  0.415885   \n",
       "391  credit_bureau_a_1                subjectrole_93M   0.001000  0.738371   \n",
       "395  credit_bureau_a_1     totaldebtoverduevalue_718A   0.000220  1.000000   \n",
       "397  credit_bureau_a_1    totaloutstanddebtvalue_668A   0.000065  1.000000   \n",
       "\n",
       "     statistic_location  statistic_sign  \n",
       "377           478.58798               1  \n",
       "375           632.59000               1  \n",
       "367             5.00000               1  \n",
       "346             4.00000               1  \n",
       "350          2017.00000               1  \n",
       "..                  ...             ...  \n",
       "355            48.00000               1  \n",
       "360            19.00000              -1  \n",
       "391             1.00000              -1  \n",
       "395          2950.00000               1  \n",
       "397         13045.64000               1  \n",
       "\n",
       "[65 rows x 6 columns]"
      ]
     },
     "execution_count": 27,
     "metadata": {},
     "output_type": "execute_result"
    }
   ],
   "source": [
    "df_ks_res[df_ks_res['key'] == 'credit_bureau_a_1']"
   ]
  },
  {
   "cell_type": "code",
   "execution_count": 15,
   "metadata": {
    "tags": []
   },
   "outputs": [],
   "source": [
    "df_joined, cols = prepare_dfs(d_df[key], d_df[\"base\"])"
   ]
  },
  {
   "cell_type": "code",
   "execution_count": null,
   "metadata": {
    "tags": []
   },
   "outputs": [],
   "source": [
    "dfp = select_cols_and_convert_to_pandas(df_joined, _col)"
   ]
  },
  {
   "cell_type": "code",
   "execution_count": 70,
   "metadata": {
    "tags": []
   },
   "outputs": [],
   "source": [
    "df_ks_res = pd.read_csv(\"ks_2samp_results.csv\")"
   ]
  },
  {
   "cell_type": "code",
   "execution_count": 54,
   "metadata": {
    "tags": []
   },
   "outputs": [
    {
     "name": "stderr",
     "output_type": "stream",
     "text": [
      "                                                                                \r"
     ]
    },
    {
     "name": "stdout",
     "output_type": "stream",
     "text": [
      "applprev_2 \t 14075487 \t 1221522\n"
     ]
    },
    {
     "name": "stderr",
     "output_type": "stream",
     "text": [
      "                                                                                \r"
     ]
    },
    {
     "name": "stdout",
     "output_type": "stream",
     "text": [
      "base \t 1526659 \t 1526659\n",
      "credit_bureau_b_1 \t 85791 \t 36500\n",
      "credit_bureau_b_2 \t 1286755 \t 36447\n",
      "debitcard_1 \t 157302 \t 111772\n",
      "deposit_1 \t 145086 \t 105111\n",
      "other_1 \t 51109 \t 51109\n"
     ]
    },
    {
     "name": "stderr",
     "output_type": "stream",
     "text": [
      "                                                                                \r"
     ]
    },
    {
     "name": "stdout",
     "output_type": "stream",
     "text": [
      "person_1 \t 2973991 \t 1526659\n",
      "person_2 \t 1643410 \t 1435105\n"
     ]
    },
    {
     "name": "stderr",
     "output_type": "stream",
     "text": [
      "                                                                                \r"
     ]
    },
    {
     "name": "stdout",
     "output_type": "stream",
     "text": [
      "static_cb_0 \t 1500476 \t 1500476\n",
      "tax_registry_a_1 \t 3275770 \t 457934\n",
      "tax_registry_b_1 \t 1107933 \t 150732\n",
      "tax_registry_c_1 \t 3343800 \t 482265\n"
     ]
    },
    {
     "name": "stderr",
     "output_type": "stream",
     "text": [
      "                                                                                \r"
     ]
    },
    {
     "name": "stdout",
     "output_type": "stream",
     "text": [
      "applprev_1 \t 6525979 \t 1221522\n",
      "static_0 \t 1526659 \t 1526659\n"
     ]
    },
    {
     "name": "stderr",
     "output_type": "stream",
     "text": [
      "                                                                                \r"
     ]
    },
    {
     "name": "stdout",
     "output_type": "stream",
     "text": [
      "credit_bureau_a_1 \t 15940537 \t 1386273\n"
     ]
    },
    {
     "name": "stderr",
     "output_type": "stream",
     "text": [
      "[Stage 238:======================================================>(79 + 1) / 80]\r"
     ]
    },
    {
     "name": "stdout",
     "output_type": "stream",
     "text": [
      "credit_bureau_a_2 \t 188298452 \t 1385288\n"
     ]
    },
    {
     "name": "stderr",
     "output_type": "stream",
     "text": [
      "                                                                                \r"
     ]
    }
   ],
   "source": [
    "for key in d_df.keys():\n",
    "    cnt = d_df[key].count()\n",
    "    unique = d_df[key].select(\"case_id\").distinct().count()\n",
    "    print(key, \"\\t\", cnt, \"\\t\", unique)"
   ]
  },
  {
   "cell_type": "code",
   "execution_count": 53,
   "metadata": {
    "tags": []
   },
   "outputs": [
    {
     "data": {
      "text/plain": [
       "36447"
      ]
     },
     "execution_count": 53,
     "metadata": {},
     "output_type": "execute_result"
    }
   ],
   "source": [
    "d_df[\"credit_bureau_b_2\"].select(\"case_id\").distinct().count()"
   ]
  },
  {
   "cell_type": "code",
   "execution_count": 55,
   "metadata": {
    "scrolled": true,
    "tags": []
   },
   "outputs": [
    {
     "data": {
      "text/html": [
       "<div>\n",
       "<style scoped>\n",
       "    .dataframe tbody tr th:only-of-type {\n",
       "        vertical-align: middle;\n",
       "    }\n",
       "\n",
       "    .dataframe tbody tr th {\n",
       "        vertical-align: top;\n",
       "    }\n",
       "\n",
       "    .dataframe thead th {\n",
       "        text-align: right;\n",
       "    }\n",
       "</style>\n",
       "<table border=\"1\" class=\"dataframe\">\n",
       "  <thead>\n",
       "    <tr style=\"text-align: right;\">\n",
       "      <th></th>\n",
       "      <th>Unnamed: 0</th>\n",
       "      <th>key</th>\n",
       "      <th>col</th>\n",
       "      <th>statistic</th>\n",
       "      <th>pvalue</th>\n",
       "      <th>statistic_location</th>\n",
       "      <th>statistic_sign</th>\n",
       "    </tr>\n",
       "  </thead>\n",
       "  <tbody>\n",
       "    <tr>\n",
       "      <th>43</th>\n",
       "      <td>43</td>\n",
       "      <td>credit_bureau_b_2</td>\n",
       "      <td>pmts_dpdvalue_108P</td>\n",
       "      <td>0.205751</td>\n",
       "      <td>0.000000e+00</td>\n",
       "      <td>4.00000</td>\n",
       "      <td>1</td>\n",
       "    </tr>\n",
       "    <tr>\n",
       "      <th>27</th>\n",
       "      <td>27</td>\n",
       "      <td>credit_bureau_b_1</td>\n",
       "      <td>overdueamountmax_950A</td>\n",
       "      <td>0.205673</td>\n",
       "      <td>1.605159e-191</td>\n",
       "      <td>0.40000</td>\n",
       "      <td>1</td>\n",
       "    </tr>\n",
       "    <tr>\n",
       "      <th>17</th>\n",
       "      <td>17</td>\n",
       "      <td>credit_bureau_b_1</td>\n",
       "      <td>dpdmax_851P</td>\n",
       "      <td>0.205622</td>\n",
       "      <td>1.994038e-191</td>\n",
       "      <td>2672.00000</td>\n",
       "      <td>1</td>\n",
       "    </tr>\n",
       "    <tr>\n",
       "      <th>44</th>\n",
       "      <td>44</td>\n",
       "      <td>credit_bureau_b_2</td>\n",
       "      <td>pmts_pmtsoverdue_635A</td>\n",
       "      <td>0.205559</td>\n",
       "      <td>0.000000e+00</td>\n",
       "      <td>0.00000</td>\n",
       "      <td>1</td>\n",
       "    </tr>\n",
       "    <tr>\n",
       "      <th>161</th>\n",
       "      <td>161</td>\n",
       "      <td>applprev_1</td>\n",
       "      <td>maxdpdtolerance_577P</td>\n",
       "      <td>0.201078</td>\n",
       "      <td>0.000000e+00</td>\n",
       "      <td>2.00000</td>\n",
       "      <td>1</td>\n",
       "    </tr>\n",
       "    <tr>\n",
       "      <th>25</th>\n",
       "      <td>25</td>\n",
       "      <td>credit_bureau_b_1</td>\n",
       "      <td>maxdebtpduevalodued_3940955A</td>\n",
       "      <td>0.199480</td>\n",
       "      <td>4.376669e-180</td>\n",
       "      <td>0.20000</td>\n",
       "      <td>1</td>\n",
       "    </tr>\n",
       "    <tr>\n",
       "      <th>184</th>\n",
       "      <td>184</td>\n",
       "      <td>static_0</td>\n",
       "      <td>avgdpdtolclosure24_3658938P</td>\n",
       "      <td>0.198075</td>\n",
       "      <td>0.000000e+00</td>\n",
       "      <td>0.00000</td>\n",
       "      <td>1</td>\n",
       "    </tr>\n",
       "    <tr>\n",
       "      <th>236</th>\n",
       "      <td>236</td>\n",
       "      <td>static_0</td>\n",
       "      <td>lastrejectreason_759M</td>\n",
       "      <td>0.190734</td>\n",
       "      <td>0.000000e+00</td>\n",
       "      <td>0.00000</td>\n",
       "      <td>1</td>\n",
       "    </tr>\n",
       "    <tr>\n",
       "      <th>237</th>\n",
       "      <td>237</td>\n",
       "      <td>static_0</td>\n",
       "      <td>lastrejectreasonclient_4145040M</td>\n",
       "      <td>0.186925</td>\n",
       "      <td>0.000000e+00</td>\n",
       "      <td>0.00000</td>\n",
       "      <td>1</td>\n",
       "    </tr>\n",
       "    <tr>\n",
       "      <th>299</th>\n",
       "      <td>299</td>\n",
       "      <td>static_0</td>\n",
       "      <td>pctinstlsallpaidlate1d_3546856L</td>\n",
       "      <td>0.182566</td>\n",
       "      <td>0.000000e+00</td>\n",
       "      <td>0.19868</td>\n",
       "      <td>1</td>\n",
       "    </tr>\n",
       "    <tr>\n",
       "      <th>297</th>\n",
       "      <td>297</td>\n",
       "      <td>static_0</td>\n",
       "      <td>pctinstlsallpaidearl3d_427L</td>\n",
       "      <td>0.180334</td>\n",
       "      <td>0.000000e+00</td>\n",
       "      <td>0.51042</td>\n",
       "      <td>-1</td>\n",
       "    </tr>\n",
       "    <tr>\n",
       "      <th>29</th>\n",
       "      <td>29</td>\n",
       "      <td>credit_bureau_b_1</td>\n",
       "      <td>overdueamountmaxdateyear_432T</td>\n",
       "      <td>0.175881</td>\n",
       "      <td>8.172748e-140</td>\n",
       "      <td>2018.00000</td>\n",
       "      <td>1</td>\n",
       "    </tr>\n",
       "    <tr>\n",
       "      <th>300</th>\n",
       "      <td>300</td>\n",
       "      <td>static_0</td>\n",
       "      <td>pctinstlsallpaidlate4d_3546849L</td>\n",
       "      <td>0.173328</td>\n",
       "      <td>0.000000e+00</td>\n",
       "      <td>0.12371</td>\n",
       "      <td>1</td>\n",
       "    </tr>\n",
       "    <tr>\n",
       "      <th>235</th>\n",
       "      <td>235</td>\n",
       "      <td>static_0</td>\n",
       "      <td>lastrejectcredamount_222A</td>\n",
       "      <td>0.171592</td>\n",
       "      <td>0.000000e+00</td>\n",
       "      <td>400000.00000</td>\n",
       "      <td>-1</td>\n",
       "    </tr>\n",
       "    <tr>\n",
       "      <th>53</th>\n",
       "      <td>53</td>\n",
       "      <td>other_1</td>\n",
       "      <td>amtdepositoutgoing_4809442A</td>\n",
       "      <td>0.164887</td>\n",
       "      <td>1.048354e-34</td>\n",
       "      <td>2.00000</td>\n",
       "      <td>-1</td>\n",
       "    </tr>\n",
       "    <tr>\n",
       "      <th>301</th>\n",
       "      <td>301</td>\n",
       "      <td>static_0</td>\n",
       "      <td>pctinstlsallpaidlate6d_3546844L</td>\n",
       "      <td>0.163693</td>\n",
       "      <td>0.000000e+00</td>\n",
       "      <td>0.10983</td>\n",
       "      <td>1</td>\n",
       "    </tr>\n",
       "    <tr>\n",
       "      <th>169</th>\n",
       "      <td>169</td>\n",
       "      <td>applprev_1</td>\n",
       "      <td>status_219L</td>\n",
       "      <td>0.162272</td>\n",
       "      <td>0.000000e+00</td>\n",
       "      <td>0.00000</td>\n",
       "      <td>-1</td>\n",
       "    </tr>\n",
       "    <tr>\n",
       "      <th>229</th>\n",
       "      <td>229</td>\n",
       "      <td>static_0</td>\n",
       "      <td>lastcancelreason_561M</td>\n",
       "      <td>0.160961</td>\n",
       "      <td>0.000000e+00</td>\n",
       "      <td>0.00000</td>\n",
       "      <td>1</td>\n",
       "    </tr>\n",
       "    <tr>\n",
       "      <th>272</th>\n",
       "      <td>272</td>\n",
       "      <td>static_0</td>\n",
       "      <td>numinstlswithdpd10_728L</td>\n",
       "      <td>0.158829</td>\n",
       "      <td>0.000000e+00</td>\n",
       "      <td>0.00000</td>\n",
       "      <td>1</td>\n",
       "    </tr>\n",
       "    <tr>\n",
       "      <th>215</th>\n",
       "      <td>215</td>\n",
       "      <td>static_0</td>\n",
       "      <td>daysoverduetolerancedd_3976961L</td>\n",
       "      <td>0.155867</td>\n",
       "      <td>0.000000e+00</td>\n",
       "      <td>4.00000</td>\n",
       "      <td>1</td>\n",
       "    </tr>\n",
       "    <tr>\n",
       "      <th>294</th>\n",
       "      <td>294</td>\n",
       "      <td>static_0</td>\n",
       "      <td>numrejects9m_859L</td>\n",
       "      <td>0.155752</td>\n",
       "      <td>0.000000e+00</td>\n",
       "      <td>0.00000</td>\n",
       "      <td>1</td>\n",
       "    </tr>\n",
       "    <tr>\n",
       "      <th>298</th>\n",
       "      <td>298</td>\n",
       "      <td>static_0</td>\n",
       "      <td>pctinstlsallpaidlat10d_839L</td>\n",
       "      <td>0.153334</td>\n",
       "      <td>0.000000e+00</td>\n",
       "      <td>0.06623</td>\n",
       "      <td>1</td>\n",
       "    </tr>\n",
       "    <tr>\n",
       "      <th>181</th>\n",
       "      <td>181</td>\n",
       "      <td>static_0</td>\n",
       "      <td>avgdbddpdlast24m_3658932P</td>\n",
       "      <td>0.150837</td>\n",
       "      <td>0.000000e+00</td>\n",
       "      <td>-2.00000</td>\n",
       "      <td>1</td>\n",
       "    </tr>\n",
       "    <tr>\n",
       "      <th>5</th>\n",
       "      <td>5</td>\n",
       "      <td>credit_bureau_b_1</td>\n",
       "      <td>contractst_516M</td>\n",
       "      <td>0.149938</td>\n",
       "      <td>1.545208e-101</td>\n",
       "      <td>1.00000</td>\n",
       "      <td>1</td>\n",
       "    </tr>\n",
       "    <tr>\n",
       "      <th>151</th>\n",
       "      <td>151</td>\n",
       "      <td>applprev_1</td>\n",
       "      <td>dateactivated_425D</td>\n",
       "      <td>0.149716</td>\n",
       "      <td>0.000000e+00</td>\n",
       "      <td>-1.00000</td>\n",
       "      <td>-1</td>\n",
       "    </tr>\n",
       "    <tr>\n",
       "      <th>150</th>\n",
       "      <td>150</td>\n",
       "      <td>applprev_1</td>\n",
       "      <td>currdebt_94A</td>\n",
       "      <td>0.145941</td>\n",
       "      <td>0.000000e+00</td>\n",
       "      <td>50884.43400</td>\n",
       "      <td>1</td>\n",
       "    </tr>\n",
       "    <tr>\n",
       "      <th>162</th>\n",
       "      <td>162</td>\n",
       "      <td>applprev_1</td>\n",
       "      <td>outstandingdebt_522A</td>\n",
       "      <td>0.145903</td>\n",
       "      <td>0.000000e+00</td>\n",
       "      <td>60916.60000</td>\n",
       "      <td>1</td>\n",
       "    </tr>\n",
       "    <tr>\n",
       "      <th>277</th>\n",
       "      <td>277</td>\n",
       "      <td>static_0</td>\n",
       "      <td>numinstpaidearly3d_3546850L</td>\n",
       "      <td>0.145027</td>\n",
       "      <td>0.000000e+00</td>\n",
       "      <td>8.00000</td>\n",
       "      <td>-1</td>\n",
       "    </tr>\n",
       "    <tr>\n",
       "      <th>245</th>\n",
       "      <td>245</td>\n",
       "      <td>static_0</td>\n",
       "      <td>maxdbddpdtollast12m_3658940P</td>\n",
       "      <td>0.144132</td>\n",
       "      <td>0.000000e+00</td>\n",
       "      <td>1.00000</td>\n",
       "      <td>1</td>\n",
       "    </tr>\n",
       "    <tr>\n",
       "      <th>167</th>\n",
       "      <td>167</td>\n",
       "      <td>applprev_1</td>\n",
       "      <td>rejectreasonclient_4145042M</td>\n",
       "      <td>0.143499</td>\n",
       "      <td>0.000000e+00</td>\n",
       "      <td>0.00000</td>\n",
       "      <td>1</td>\n",
       "    </tr>\n",
       "    <tr>\n",
       "      <th>269</th>\n",
       "      <td>269</td>\n",
       "      <td>static_0</td>\n",
       "      <td>numinstlallpaidearly3d_817L</td>\n",
       "      <td>0.142493</td>\n",
       "      <td>0.000000e+00</td>\n",
       "      <td>8.00000</td>\n",
       "      <td>-1</td>\n",
       "    </tr>\n",
       "    <tr>\n",
       "      <th>13</th>\n",
       "      <td>13</td>\n",
       "      <td>credit_bureau_b_1</td>\n",
       "      <td>debtpastduevalue_732A</td>\n",
       "      <td>0.142180</td>\n",
       "      <td>2.663339e-91</td>\n",
       "      <td>1.50200</td>\n",
       "      <td>1</td>\n",
       "    </tr>\n",
       "    <tr>\n",
       "      <th>32</th>\n",
       "      <td>32</td>\n",
       "      <td>credit_bureau_b_1</td>\n",
       "      <td>pmtdaysoverdue_1135P</td>\n",
       "      <td>0.141028</td>\n",
       "      <td>7.926708e-90</td>\n",
       "      <td>0.00000</td>\n",
       "      <td>1</td>\n",
       "    </tr>\n",
       "    <tr>\n",
       "      <th>15</th>\n",
       "      <td>15</td>\n",
       "      <td>credit_bureau_b_1</td>\n",
       "      <td>dpd_550P</td>\n",
       "      <td>0.140086</td>\n",
       "      <td>1.243456e-88</td>\n",
       "      <td>6.00000</td>\n",
       "      <td>1</td>\n",
       "    </tr>\n",
       "    <tr>\n",
       "      <th>262</th>\n",
       "      <td>262</td>\n",
       "      <td>static_0</td>\n",
       "      <td>mobilephncnt_593L</td>\n",
       "      <td>0.137797</td>\n",
       "      <td>0.000000e+00</td>\n",
       "      <td>1.00000</td>\n",
       "      <td>1</td>\n",
       "    </tr>\n",
       "    <tr>\n",
       "      <th>282</th>\n",
       "      <td>282</td>\n",
       "      <td>static_0</td>\n",
       "      <td>numinstpaidearly_338L</td>\n",
       "      <td>0.137061</td>\n",
       "      <td>0.000000e+00</td>\n",
       "      <td>8.00000</td>\n",
       "      <td>-1</td>\n",
       "    </tr>\n",
       "    <tr>\n",
       "      <th>166</th>\n",
       "      <td>166</td>\n",
       "      <td>applprev_1</td>\n",
       "      <td>rejectreason_755M</td>\n",
       "      <td>0.136968</td>\n",
       "      <td>0.000000e+00</td>\n",
       "      <td>0.00000</td>\n",
       "      <td>1</td>\n",
       "    </tr>\n",
       "    <tr>\n",
       "      <th>90</th>\n",
       "      <td>90</td>\n",
       "      <td>static_cb_0</td>\n",
       "      <td>days180_256L</td>\n",
       "      <td>0.136903</td>\n",
       "      <td>0.000000e+00</td>\n",
       "      <td>2.00000</td>\n",
       "      <td>1</td>\n",
       "    </tr>\n",
       "    <tr>\n",
       "      <th>89</th>\n",
       "      <td>89</td>\n",
       "      <td>static_cb_0</td>\n",
       "      <td>days120_123L</td>\n",
       "      <td>0.136824</td>\n",
       "      <td>0.000000e+00</td>\n",
       "      <td>2.00000</td>\n",
       "      <td>1</td>\n",
       "    </tr>\n",
       "    <tr>\n",
       "      <th>93</th>\n",
       "      <td>93</td>\n",
       "      <td>static_cb_0</td>\n",
       "      <td>days90_310L</td>\n",
       "      <td>0.136714</td>\n",
       "      <td>0.000000e+00</td>\n",
       "      <td>1.00000</td>\n",
       "      <td>1</td>\n",
       "    </tr>\n",
       "    <tr>\n",
       "      <th>273</th>\n",
       "      <td>273</td>\n",
       "      <td>static_0</td>\n",
       "      <td>numinstlswithdpd5_4187116L</td>\n",
       "      <td>0.135489</td>\n",
       "      <td>0.000000e+00</td>\n",
       "      <td>0.00000</td>\n",
       "      <td>1</td>\n",
       "    </tr>\n",
       "    <tr>\n",
       "      <th>140</th>\n",
       "      <td>140</td>\n",
       "      <td>applprev_1</td>\n",
       "      <td>cancelreason_3545846M</td>\n",
       "      <td>0.135319</td>\n",
       "      <td>0.000000e+00</td>\n",
       "      <td>0.00000</td>\n",
       "      <td>1</td>\n",
       "    </tr>\n",
       "    <tr>\n",
       "      <th>187</th>\n",
       "      <td>187</td>\n",
       "      <td>static_0</td>\n",
       "      <td>avgmaxdpdlast9m_3716943P</td>\n",
       "      <td>0.129915</td>\n",
       "      <td>0.000000e+00</td>\n",
       "      <td>0.00000</td>\n",
       "      <td>1</td>\n",
       "    </tr>\n",
       "    <tr>\n",
       "      <th>271</th>\n",
       "      <td>271</td>\n",
       "      <td>static_0</td>\n",
       "      <td>numinstlsallpaid_934L</td>\n",
       "      <td>0.128845</td>\n",
       "      <td>0.000000e+00</td>\n",
       "      <td>11.00000</td>\n",
       "      <td>-1</td>\n",
       "    </tr>\n",
       "    <tr>\n",
       "      <th>279</th>\n",
       "      <td>279</td>\n",
       "      <td>static_0</td>\n",
       "      <td>numinstpaidearly5d_1087L</td>\n",
       "      <td>0.127113</td>\n",
       "      <td>0.000000e+00</td>\n",
       "      <td>2.00000</td>\n",
       "      <td>-1</td>\n",
       "    </tr>\n",
       "    <tr>\n",
       "      <th>249</th>\n",
       "      <td>249</td>\n",
       "      <td>static_0</td>\n",
       "      <td>maxdpdinstlnum_3546846P</td>\n",
       "      <td>0.126602</td>\n",
       "      <td>0.000000e+00</td>\n",
       "      <td>105.00000</td>\n",
       "      <td>-1</td>\n",
       "    </tr>\n",
       "    <tr>\n",
       "      <th>19</th>\n",
       "      <td>19</td>\n",
       "      <td>credit_bureau_b_1</td>\n",
       "      <td>dpdmaxdateyear_742T</td>\n",
       "      <td>0.126536</td>\n",
       "      <td>2.443999e-72</td>\n",
       "      <td>2018.00000</td>\n",
       "      <td>1</td>\n",
       "    </tr>\n",
       "    <tr>\n",
       "      <th>51</th>\n",
       "      <td>51</td>\n",
       "      <td>other_1</td>\n",
       "      <td>amtdepositbalance_4809441A</td>\n",
       "      <td>0.124332</td>\n",
       "      <td>7.122664e-20</td>\n",
       "      <td>223.00000</td>\n",
       "      <td>-1</td>\n",
       "    </tr>\n",
       "    <tr>\n",
       "      <th>285</th>\n",
       "      <td>285</td>\n",
       "      <td>static_0</td>\n",
       "      <td>numinstpaidlate1d_3546852L</td>\n",
       "      <td>0.119607</td>\n",
       "      <td>0.000000e+00</td>\n",
       "      <td>2.00000</td>\n",
       "      <td>1</td>\n",
       "    </tr>\n",
       "    <tr>\n",
       "      <th>117</th>\n",
       "      <td>117</td>\n",
       "      <td>static_cb_0</td>\n",
       "      <td>numberofqueries_373L</td>\n",
       "      <td>0.119404</td>\n",
       "      <td>0.000000e+00</td>\n",
       "      <td>5.00000</td>\n",
       "      <td>1</td>\n",
       "    </tr>\n",
       "  </tbody>\n",
       "</table>\n",
       "</div>"
      ],
      "text/plain": [
       "     Unnamed: 0                key                              col  \\\n",
       "43           43  credit_bureau_b_2               pmts_dpdvalue_108P   \n",
       "27           27  credit_bureau_b_1            overdueamountmax_950A   \n",
       "17           17  credit_bureau_b_1                      dpdmax_851P   \n",
       "44           44  credit_bureau_b_2            pmts_pmtsoverdue_635A   \n",
       "161         161         applprev_1             maxdpdtolerance_577P   \n",
       "25           25  credit_bureau_b_1     maxdebtpduevalodued_3940955A   \n",
       "184         184           static_0      avgdpdtolclosure24_3658938P   \n",
       "236         236           static_0            lastrejectreason_759M   \n",
       "237         237           static_0  lastrejectreasonclient_4145040M   \n",
       "299         299           static_0  pctinstlsallpaidlate1d_3546856L   \n",
       "297         297           static_0      pctinstlsallpaidearl3d_427L   \n",
       "29           29  credit_bureau_b_1    overdueamountmaxdateyear_432T   \n",
       "300         300           static_0  pctinstlsallpaidlate4d_3546849L   \n",
       "235         235           static_0        lastrejectcredamount_222A   \n",
       "53           53            other_1      amtdepositoutgoing_4809442A   \n",
       "301         301           static_0  pctinstlsallpaidlate6d_3546844L   \n",
       "169         169         applprev_1                      status_219L   \n",
       "229         229           static_0            lastcancelreason_561M   \n",
       "272         272           static_0          numinstlswithdpd10_728L   \n",
       "215         215           static_0  daysoverduetolerancedd_3976961L   \n",
       "294         294           static_0                numrejects9m_859L   \n",
       "298         298           static_0      pctinstlsallpaidlat10d_839L   \n",
       "181         181           static_0        avgdbddpdlast24m_3658932P   \n",
       "5             5  credit_bureau_b_1                  contractst_516M   \n",
       "151         151         applprev_1               dateactivated_425D   \n",
       "150         150         applprev_1                     currdebt_94A   \n",
       "162         162         applprev_1             outstandingdebt_522A   \n",
       "277         277           static_0      numinstpaidearly3d_3546850L   \n",
       "245         245           static_0     maxdbddpdtollast12m_3658940P   \n",
       "167         167         applprev_1      rejectreasonclient_4145042M   \n",
       "269         269           static_0      numinstlallpaidearly3d_817L   \n",
       "13           13  credit_bureau_b_1            debtpastduevalue_732A   \n",
       "32           32  credit_bureau_b_1             pmtdaysoverdue_1135P   \n",
       "15           15  credit_bureau_b_1                         dpd_550P   \n",
       "262         262           static_0                mobilephncnt_593L   \n",
       "282         282           static_0            numinstpaidearly_338L   \n",
       "166         166         applprev_1                rejectreason_755M   \n",
       "90           90        static_cb_0                     days180_256L   \n",
       "89           89        static_cb_0                     days120_123L   \n",
       "93           93        static_cb_0                      days90_310L   \n",
       "273         273           static_0       numinstlswithdpd5_4187116L   \n",
       "140         140         applprev_1            cancelreason_3545846M   \n",
       "187         187           static_0         avgmaxdpdlast9m_3716943P   \n",
       "271         271           static_0            numinstlsallpaid_934L   \n",
       "279         279           static_0         numinstpaidearly5d_1087L   \n",
       "249         249           static_0          maxdpdinstlnum_3546846P   \n",
       "19           19  credit_bureau_b_1              dpdmaxdateyear_742T   \n",
       "51           51            other_1       amtdepositbalance_4809441A   \n",
       "285         285           static_0       numinstpaidlate1d_3546852L   \n",
       "117         117        static_cb_0             numberofqueries_373L   \n",
       "\n",
       "     statistic         pvalue  statistic_location  statistic_sign  \n",
       "43    0.205751   0.000000e+00             4.00000               1  \n",
       "27    0.205673  1.605159e-191             0.40000               1  \n",
       "17    0.205622  1.994038e-191          2672.00000               1  \n",
       "44    0.205559   0.000000e+00             0.00000               1  \n",
       "161   0.201078   0.000000e+00             2.00000               1  \n",
       "25    0.199480  4.376669e-180             0.20000               1  \n",
       "184   0.198075   0.000000e+00             0.00000               1  \n",
       "236   0.190734   0.000000e+00             0.00000               1  \n",
       "237   0.186925   0.000000e+00             0.00000               1  \n",
       "299   0.182566   0.000000e+00             0.19868               1  \n",
       "297   0.180334   0.000000e+00             0.51042              -1  \n",
       "29    0.175881  8.172748e-140          2018.00000               1  \n",
       "300   0.173328   0.000000e+00             0.12371               1  \n",
       "235   0.171592   0.000000e+00        400000.00000              -1  \n",
       "53    0.164887   1.048354e-34             2.00000              -1  \n",
       "301   0.163693   0.000000e+00             0.10983               1  \n",
       "169   0.162272   0.000000e+00             0.00000              -1  \n",
       "229   0.160961   0.000000e+00             0.00000               1  \n",
       "272   0.158829   0.000000e+00             0.00000               1  \n",
       "215   0.155867   0.000000e+00             4.00000               1  \n",
       "294   0.155752   0.000000e+00             0.00000               1  \n",
       "298   0.153334   0.000000e+00             0.06623               1  \n",
       "181   0.150837   0.000000e+00            -2.00000               1  \n",
       "5     0.149938  1.545208e-101             1.00000               1  \n",
       "151   0.149716   0.000000e+00            -1.00000              -1  \n",
       "150   0.145941   0.000000e+00         50884.43400               1  \n",
       "162   0.145903   0.000000e+00         60916.60000               1  \n",
       "277   0.145027   0.000000e+00             8.00000              -1  \n",
       "245   0.144132   0.000000e+00             1.00000               1  \n",
       "167   0.143499   0.000000e+00             0.00000               1  \n",
       "269   0.142493   0.000000e+00             8.00000              -1  \n",
       "13    0.142180   2.663339e-91             1.50200               1  \n",
       "32    0.141028   7.926708e-90             0.00000               1  \n",
       "15    0.140086   1.243456e-88             6.00000               1  \n",
       "262   0.137797   0.000000e+00             1.00000               1  \n",
       "282   0.137061   0.000000e+00             8.00000              -1  \n",
       "166   0.136968   0.000000e+00             0.00000               1  \n",
       "90    0.136903   0.000000e+00             2.00000               1  \n",
       "89    0.136824   0.000000e+00             2.00000               1  \n",
       "93    0.136714   0.000000e+00             1.00000               1  \n",
       "273   0.135489   0.000000e+00             0.00000               1  \n",
       "140   0.135319   0.000000e+00             0.00000               1  \n",
       "187   0.129915   0.000000e+00             0.00000               1  \n",
       "271   0.128845   0.000000e+00            11.00000              -1  \n",
       "279   0.127113   0.000000e+00             2.00000              -1  \n",
       "249   0.126602   0.000000e+00           105.00000              -1  \n",
       "19    0.126536   2.443999e-72          2018.00000               1  \n",
       "51    0.124332   7.122664e-20           223.00000              -1  \n",
       "285   0.119607   0.000000e+00             2.00000               1  \n",
       "117   0.119404   0.000000e+00             5.00000               1  "
      ]
     },
     "execution_count": 55,
     "metadata": {},
     "output_type": "execute_result"
    }
   ],
   "source": [
    "df_ks_res.sort_values(\"statistic\", ascending=False).head(50)"
   ]
  },
  {
   "cell_type": "code",
   "execution_count": 17,
   "metadata": {
    "tags": []
   },
   "outputs": [
    {
     "data": {
      "text/plain": [
       "<Axes: >"
      ]
     },
     "execution_count": 17,
     "metadata": {},
     "output_type": "execute_result"
    },
    {
     "data": {
      "image/png": "[encoded data removed]",
      "text/plain": [
       "<Figure size 640x480 with 1 Axes>"
      ]
     },
     "metadata": {},
     "output_type": "display_data"
    }
   ],
   "source": [
    "df_ks_res[\"statistic\"].hist(bins=40)"
   ]
  },
  {
   "cell_type": "code",
   "execution_count": 82,
   "metadata": {
    "scrolled": true,
    "tags": []
   },
   "outputs": [],
   "source": [
    "# t5.sort_values('statistic', ascending=False).head(30)"
   ]
  },
  {
   "cell_type": "code",
   "execution_count": 58,
   "metadata": {
    "tags": []
   },
   "outputs": [],
   "source": [
    "def compare_distr(key, col):\n",
    "    df_joined, cols = prepare_dfs(d_df[key], d_df[\"base\"])\n",
    "    t4 = df_joined[col, \"target\"].toPandas()\n",
    "    t4_0 = t4[t4[\"target\"] == 0]\n",
    "    t4_1 = t4[t4[\"target\"] == 1]\n",
    "    ax = t4_0[t4_0[col] < 1000000][col].hist(bins=40, log=True, alpha=0.4)\n",
    "    t4_1[t4_1[col] < 1000000][col].hist(bins=40, ax=ax, log=True)"
   ]
  },
  {
   "cell_type": "code",
   "execution_count": 59,
   "metadata": {
    "tags": []
   },
   "outputs": [
    {
     "data": {
      "image/png": "[encoded data removed]",
      "text/plain": [
       "<Figure size 640x480 with 1 Axes>"
      ]
     },
     "metadata": {},
     "output_type": "display_data"
    }
   ],
   "source": [
    "compare_distr(\"credit_bureau_b_2\", \"pmts_dpdvalue_108P\")"
   ]
  },
  {
   "cell_type": "code",
   "execution_count": 62,
   "metadata": {
    "scrolled": true,
    "tags": []
   },
   "outputs": [
    {
     "data": {
      "text/html": [
       "<div>\n",
       "<style scoped>\n",
       "    .dataframe tbody tr th:only-of-type {\n",
       "        vertical-align: middle;\n",
       "    }\n",
       "\n",
       "    .dataframe tbody tr th {\n",
       "        vertical-align: top;\n",
       "    }\n",
       "\n",
       "    .dataframe thead th {\n",
       "        text-align: right;\n",
       "    }\n",
       "</style>\n",
       "<table border=\"1\" class=\"dataframe\">\n",
       "  <thead>\n",
       "    <tr style=\"text-align: right;\">\n",
       "      <th></th>\n",
       "      <th>Unnamed: 0</th>\n",
       "      <th>key</th>\n",
       "      <th>col</th>\n",
       "      <th>statistic</th>\n",
       "      <th>pvalue</th>\n",
       "      <th>statistic_location</th>\n",
       "      <th>statistic_sign</th>\n",
       "    </tr>\n",
       "  </thead>\n",
       "  <tbody>\n",
       "    <tr>\n",
       "      <th>184</th>\n",
       "      <td>184</td>\n",
       "      <td>static_0</td>\n",
       "      <td>avgdpdtolclosure24_3658938P</td>\n",
       "      <td>0.198075</td>\n",
       "      <td>0.0</td>\n",
       "      <td>0.00000</td>\n",
       "      <td>1</td>\n",
       "    </tr>\n",
       "    <tr>\n",
       "      <th>236</th>\n",
       "      <td>236</td>\n",
       "      <td>static_0</td>\n",
       "      <td>lastrejectreason_759M</td>\n",
       "      <td>0.190734</td>\n",
       "      <td>0.0</td>\n",
       "      <td>0.00000</td>\n",
       "      <td>1</td>\n",
       "    </tr>\n",
       "    <tr>\n",
       "      <th>237</th>\n",
       "      <td>237</td>\n",
       "      <td>static_0</td>\n",
       "      <td>lastrejectreasonclient_4145040M</td>\n",
       "      <td>0.186925</td>\n",
       "      <td>0.0</td>\n",
       "      <td>0.00000</td>\n",
       "      <td>1</td>\n",
       "    </tr>\n",
       "    <tr>\n",
       "      <th>299</th>\n",
       "      <td>299</td>\n",
       "      <td>static_0</td>\n",
       "      <td>pctinstlsallpaidlate1d_3546856L</td>\n",
       "      <td>0.182566</td>\n",
       "      <td>0.0</td>\n",
       "      <td>0.19868</td>\n",
       "      <td>1</td>\n",
       "    </tr>\n",
       "    <tr>\n",
       "      <th>297</th>\n",
       "      <td>297</td>\n",
       "      <td>static_0</td>\n",
       "      <td>pctinstlsallpaidearl3d_427L</td>\n",
       "      <td>0.180334</td>\n",
       "      <td>0.0</td>\n",
       "      <td>0.51042</td>\n",
       "      <td>-1</td>\n",
       "    </tr>\n",
       "    <tr>\n",
       "      <th>300</th>\n",
       "      <td>300</td>\n",
       "      <td>static_0</td>\n",
       "      <td>pctinstlsallpaidlate4d_3546849L</td>\n",
       "      <td>0.173328</td>\n",
       "      <td>0.0</td>\n",
       "      <td>0.12371</td>\n",
       "      <td>1</td>\n",
       "    </tr>\n",
       "    <tr>\n",
       "      <th>235</th>\n",
       "      <td>235</td>\n",
       "      <td>static_0</td>\n",
       "      <td>lastrejectcredamount_222A</td>\n",
       "      <td>0.171592</td>\n",
       "      <td>0.0</td>\n",
       "      <td>400000.00000</td>\n",
       "      <td>-1</td>\n",
       "    </tr>\n",
       "    <tr>\n",
       "      <th>301</th>\n",
       "      <td>301</td>\n",
       "      <td>static_0</td>\n",
       "      <td>pctinstlsallpaidlate6d_3546844L</td>\n",
       "      <td>0.163693</td>\n",
       "      <td>0.0</td>\n",
       "      <td>0.10983</td>\n",
       "      <td>1</td>\n",
       "    </tr>\n",
       "    <tr>\n",
       "      <th>229</th>\n",
       "      <td>229</td>\n",
       "      <td>static_0</td>\n",
       "      <td>lastcancelreason_561M</td>\n",
       "      <td>0.160961</td>\n",
       "      <td>0.0</td>\n",
       "      <td>0.00000</td>\n",
       "      <td>1</td>\n",
       "    </tr>\n",
       "    <tr>\n",
       "      <th>272</th>\n",
       "      <td>272</td>\n",
       "      <td>static_0</td>\n",
       "      <td>numinstlswithdpd10_728L</td>\n",
       "      <td>0.158829</td>\n",
       "      <td>0.0</td>\n",
       "      <td>0.00000</td>\n",
       "      <td>1</td>\n",
       "    </tr>\n",
       "  </tbody>\n",
       "</table>\n",
       "</div>"
      ],
      "text/plain": [
       "     Unnamed: 0       key                              col  statistic  pvalue  \\\n",
       "184         184  static_0      avgdpdtolclosure24_3658938P   0.198075     0.0   \n",
       "236         236  static_0            lastrejectreason_759M   0.190734     0.0   \n",
       "237         237  static_0  lastrejectreasonclient_4145040M   0.186925     0.0   \n",
       "299         299  static_0  pctinstlsallpaidlate1d_3546856L   0.182566     0.0   \n",
       "297         297  static_0      pctinstlsallpaidearl3d_427L   0.180334     0.0   \n",
       "300         300  static_0  pctinstlsallpaidlate4d_3546849L   0.173328     0.0   \n",
       "235         235  static_0        lastrejectcredamount_222A   0.171592     0.0   \n",
       "301         301  static_0  pctinstlsallpaidlate6d_3546844L   0.163693     0.0   \n",
       "229         229  static_0            lastcancelreason_561M   0.160961     0.0   \n",
       "272         272  static_0          numinstlswithdpd10_728L   0.158829     0.0   \n",
       "\n",
       "     statistic_location  statistic_sign  \n",
       "184             0.00000               1  \n",
       "236             0.00000               1  \n",
       "237             0.00000               1  \n",
       "299             0.19868               1  \n",
       "297             0.51042              -1  \n",
       "300             0.12371               1  \n",
       "235        400000.00000              -1  \n",
       "301             0.10983               1  \n",
       "229             0.00000               1  \n",
       "272             0.00000               1  "
      ]
     },
     "execution_count": 62,
     "metadata": {},
     "output_type": "execute_result"
    }
   ],
   "source": [
    "df_ks_res[df_ks_res[\"key\"] == \"static_0\"].sort_values(\n",
    "    \"statistic\", ascending=False\n",
    ").head(10)"
   ]
  },
  {
   "cell_type": "code",
   "execution_count": 65,
   "metadata": {
    "tags": []
   },
   "outputs": [
    {
     "data": {
      "image/png": "[encoded data removed]",
      "text/plain": [
       "<Figure size 640x480 with 1 Axes>"
      ]
     },
     "metadata": {},
     "output_type": "display_data"
    }
   ],
   "source": [
    "compare_distr(\"static_0\", \"pctinstlsallpaidlate1d_3546856L\")"
   ]
  },
  {
   "cell_type": "code",
   "execution_count": null,
   "metadata": {},
   "outputs": [],
   "source": []
  },
  {
   "cell_type": "code",
   "execution_count": null,
   "metadata": {},
   "outputs": [],
   "source": []
  },
  {
   "cell_type": "code",
   "execution_count": 66,
   "metadata": {
    "tags": []
   },
   "outputs": [
    {
     "data": {
      "text/plain": [
       "array(['Percentage of installments that are paid 1 or more days after the due date.'],\n",
       "      dtype=object)"
      ]
     },
     "execution_count": 66,
     "metadata": {},
     "output_type": "execute_result"
    }
   ],
   "source": [
    "df_feature_definitions[\n",
    "    df_feature_definitions[\"Variable\"] == \"pctinstlsallpaidlate1d_3546856L\"\n",
    "][\"Description\"].values"
   ]
  },
  {
   "cell_type": "code",
   "execution_count": 78,
   "metadata": {
    "tags": []
   },
   "outputs": [
    {
     "data": {
      "text/html": [
       "<div>\n",
       "<style scoped>\n",
       "    .dataframe tbody tr th:only-of-type {\n",
       "        vertical-align: middle;\n",
       "    }\n",
       "\n",
       "    .dataframe tbody tr th {\n",
       "        vertical-align: top;\n",
       "    }\n",
       "\n",
       "    .dataframe thead th {\n",
       "        text-align: right;\n",
       "    }\n",
       "</style>\n",
       "<table border=\"1\" class=\"dataframe\">\n",
       "  <thead>\n",
       "    <tr style=\"text-align: right;\">\n",
       "      <th></th>\n",
       "      <th>pmts_dpdvalue_108P</th>\n",
       "      <th>pmts_pmtsoverdue_635A</th>\n",
       "      <th>target</th>\n",
       "    </tr>\n",
       "  </thead>\n",
       "  <tbody>\n",
       "    <tr>\n",
       "      <th>0</th>\n",
       "      <td>0.0</td>\n",
       "      <td>0.00000</td>\n",
       "      <td>0</td>\n",
       "    </tr>\n",
       "    <tr>\n",
       "      <th>838382</th>\n",
       "      <td>0.0</td>\n",
       "      <td>0.00000</td>\n",
       "      <td>0</td>\n",
       "    </tr>\n",
       "    <tr>\n",
       "      <th>838381</th>\n",
       "      <td>0.0</td>\n",
       "      <td>0.00000</td>\n",
       "      <td>0</td>\n",
       "    </tr>\n",
       "    <tr>\n",
       "      <th>838380</th>\n",
       "      <td>0.0</td>\n",
       "      <td>0.00000</td>\n",
       "      <td>0</td>\n",
       "    </tr>\n",
       "    <tr>\n",
       "      <th>838379</th>\n",
       "      <td>0.0</td>\n",
       "      <td>0.00000</td>\n",
       "      <td>0</td>\n",
       "    </tr>\n",
       "    <tr>\n",
       "      <th>...</th>\n",
       "      <td>...</td>\n",
       "      <td>...</td>\n",
       "      <td>...</td>\n",
       "    </tr>\n",
       "    <tr>\n",
       "      <th>549642</th>\n",
       "      <td>185124192.0</td>\n",
       "      <td>435.00000</td>\n",
       "      <td>0</td>\n",
       "    </tr>\n",
       "    <tr>\n",
       "      <th>549632</th>\n",
       "      <td>185124192.0</td>\n",
       "      <td>407.80002</td>\n",
       "      <td>0</td>\n",
       "    </tr>\n",
       "    <tr>\n",
       "      <th>549637</th>\n",
       "      <td>185124192.0</td>\n",
       "      <td>427.00000</td>\n",
       "      <td>0</td>\n",
       "    </tr>\n",
       "    <tr>\n",
       "      <th>549605</th>\n",
       "      <td>185124192.0</td>\n",
       "      <td>413.20000</td>\n",
       "      <td>0</td>\n",
       "    </tr>\n",
       "    <tr>\n",
       "      <th>549607</th>\n",
       "      <td>185124192.0</td>\n",
       "      <td>402.60000</td>\n",
       "      <td>0</td>\n",
       "    </tr>\n",
       "  </tbody>\n",
       "</table>\n",
       "<p>1281394 rows × 3 columns</p>\n",
       "</div>"
      ],
      "text/plain": [
       "        pmts_dpdvalue_108P  pmts_pmtsoverdue_635A  target\n",
       "0                      0.0                0.00000       0\n",
       "838382                 0.0                0.00000       0\n",
       "838381                 0.0                0.00000       0\n",
       "838380                 0.0                0.00000       0\n",
       "838379                 0.0                0.00000       0\n",
       "...                    ...                    ...     ...\n",
       "549642         185124192.0              435.00000       0\n",
       "549632         185124192.0              407.80002       0\n",
       "549637         185124192.0              427.00000       0\n",
       "549605         185124192.0              413.20000       0\n",
       "549607         185124192.0              402.60000       0\n",
       "\n",
       "[1281394 rows x 3 columns]"
      ]
     },
     "execution_count": 78,
     "metadata": {},
     "output_type": "execute_result"
    }
   ],
   "source": [
    "t4.dropna(subset=\"pmts_dpdvalue_108P\").sort_values(\"pmts_dpdvalue_108P\")"
   ]
  },
  {
   "cell_type": "code",
   "execution_count": 81,
   "metadata": {
    "tags": []
   },
   "outputs": [
    {
     "data": {
      "text/plain": [
       "<Axes: >"
      ]
     },
     "execution_count": 81,
     "metadata": {},
     "output_type": "execute_result"
    },
    {
     "data": {
      "image/png": "[encoded data removed]",
      "text/plain": [
       "<Figure size 640x480 with 1 Axes>"
      ]
     },
     "metadata": {},
     "output_type": "display_data"
    }
   ],
   "source": [
    "ax = t4_0[t4_0[\"pmts_dpdvalue_108P\"] < 10000][\"pmts_pmtsoverdue_635A\"].hist(\n",
    "    bins=40, log=True, alpha=0.4\n",
    ")\n",
    "t4_1[t4_1[\"pmts_dpdvalue_108P\"] < 10000][\"pmts_pmtsoverdue_635A\"].hist(\n",
    "    bins=40, ax=ax, log=True\n",
    ")"
   ]
  },
  {
   "cell_type": "code",
   "execution_count": 19,
   "metadata": {
    "tags": []
   },
   "outputs": [
    {
     "name": "stderr",
     "output_type": "stream",
     "text": [
      "                                                                                \r"
     ]
    },
    {
     "name": "stdout",
     "output_type": "stream",
     "text": [
      "+-------+------------------+---------------------+\n",
      "|case_id|pmts_dpdvalue_108P|pmts_pmtsoverdue_635A|\n",
      "+-------+------------------+---------------------+\n",
      "|    467|               0.0|                  0.0|\n",
      "|    467|               0.0|                  0.0|\n",
      "|    467|               0.0|                  0.0|\n",
      "|    467|               0.0|                  0.0|\n",
      "|    467|               0.0|                  0.0|\n",
      "|    467|               0.0|                  0.0|\n",
      "|    467|               0.0|                  0.0|\n",
      "|    467|               0.0|                  0.0|\n",
      "|    467|               0.0|                  0.0|\n",
      "|    467|               0.0|                  0.0|\n",
      "+-------+------------------+---------------------+\n",
      "only showing top 10 rows\n",
      "\n"
     ]
    }
   ],
   "source": [
    "t3 = d_df[\"credit_bureau_b_2\"][\"case_id\", \"pmts_dpdvalue_108P\", \"pmts_pmtsoverdue_635A\"]\n",
    "# t3.show(10)"
   ]
  },
  {
   "cell_type": "code",
   "execution_count": 30,
   "metadata": {
    "tags": []
   },
   "outputs": [],
   "source": [
    "funs = [min, mean, median, max, std]\n",
    "aggregate = [\"pmts_dpdvalue_108P\", \"pmts_pmtsoverdue_635A\"]\n",
    "\n",
    "\n",
    "exprs = [f(col(c)) for f in funs for c in aggregate]\n",
    "\n",
    "t4 = t3.groupby(\"case_id\").agg(*exprs)"
   ]
  },
  {
   "cell_type": "code",
   "execution_count": 39,
   "metadata": {
    "tags": []
   },
   "outputs": [],
   "source": [
    "dfp_lgb = t4.join(d_df[\"base\"][\"case_id\", \"target\"], \"case_id\", \"right\")"
   ]
  },
  {
   "cell_type": "code",
   "execution_count": 44,
   "metadata": {
    "tags": []
   },
   "outputs": [
    {
     "name": "stderr",
     "output_type": "stream",
     "text": [
      "                                                                                \r"
     ]
    },
    {
     "name": "stdout",
     "output_type": "stream",
     "text": [
      "+-------+-----------------------+--------------------------+-----------------------+--------------------------+--------------------------+-----------------------------+-----------------------+--------------------------+-----------------------+--------------------------+------+\n",
      "|case_id|min(pmts_dpdvalue_108P)|min(pmts_pmtsoverdue_635A)|avg(pmts_dpdvalue_108P)|avg(pmts_pmtsoverdue_635A)|median(pmts_dpdvalue_108P)|median(pmts_pmtsoverdue_635A)|max(pmts_dpdvalue_108P)|max(pmts_pmtsoverdue_635A)|std(pmts_dpdvalue_108P)|std(pmts_pmtsoverdue_635A)|target|\n",
      "+-------+-----------------------+--------------------------+-----------------------+--------------------------+--------------------------+-----------------------------+-----------------------+--------------------------+-----------------------+--------------------------+------+\n",
      "|      0|                1490244|                   1490244|                1490244|                   1490244|                   1490244|                      1490244|                1490244|                   1490244|                1490671|                   1490671|     0|\n",
      "+-------+-----------------------+--------------------------+-----------------------+--------------------------+--------------------------+-----------------------------+-----------------------+--------------------------+-----------------------+--------------------------+------+\n",
      "\n"
     ]
    }
   ],
   "source": [
    "dfp_lgb.select(\n",
    "    *(count(when(col(c).isNull(), c)).alias(c) for c in dfp_lgb.columns)\n",
    ").show()"
   ]
  },
  {
   "cell_type": "code",
   "execution_count": 45,
   "metadata": {
    "tags": []
   },
   "outputs": [
    {
     "data": {
      "text/plain": [
       "1526659"
      ]
     },
     "execution_count": 45,
     "metadata": {},
     "output_type": "execute_result"
    }
   ],
   "source": [
    "dfp_lgb.count()"
   ]
  },
  {
   "cell_type": "code",
   "execution_count": 41,
   "metadata": {
    "tags": []
   },
   "outputs": [
    {
     "name": "stderr",
     "output_type": "stream",
     "text": [
      "                                                                                \r"
     ]
    },
    {
     "data": {
      "text/html": [
       "<div>\n",
       "<style scoped>\n",
       "    .dataframe tbody tr th:only-of-type {\n",
       "        vertical-align: middle;\n",
       "    }\n",
       "\n",
       "    .dataframe tbody tr th {\n",
       "        vertical-align: top;\n",
       "    }\n",
       "\n",
       "    .dataframe thead th {\n",
       "        text-align: right;\n",
       "    }\n",
       "</style>\n",
       "<table border=\"1\" class=\"dataframe\">\n",
       "  <thead>\n",
       "    <tr style=\"text-align: right;\">\n",
       "      <th></th>\n",
       "      <th>case_id</th>\n",
       "      <th>min(pmts_dpdvalue_108P)</th>\n",
       "      <th>min(pmts_pmtsoverdue_635A)</th>\n",
       "      <th>avg(pmts_dpdvalue_108P)</th>\n",
       "      <th>avg(pmts_pmtsoverdue_635A)</th>\n",
       "      <th>median(pmts_dpdvalue_108P)</th>\n",
       "      <th>median(pmts_pmtsoverdue_635A)</th>\n",
       "      <th>max(pmts_dpdvalue_108P)</th>\n",
       "      <th>max(pmts_pmtsoverdue_635A)</th>\n",
       "      <th>std(pmts_dpdvalue_108P)</th>\n",
       "      <th>std(pmts_pmtsoverdue_635A)</th>\n",
       "      <th>target</th>\n",
       "    </tr>\n",
       "  </thead>\n",
       "  <tbody>\n",
       "    <tr>\n",
       "      <th>0</th>\n",
       "      <td>0</td>\n",
       "      <td>NaN</td>\n",
       "      <td>NaN</td>\n",
       "      <td>NaN</td>\n",
       "      <td>NaN</td>\n",
       "      <td>NaN</td>\n",
       "      <td>NaN</td>\n",
       "      <td>NaN</td>\n",
       "      <td>NaN</td>\n",
       "      <td>NaN</td>\n",
       "      <td>NaN</td>\n",
       "      <td>0</td>\n",
       "    </tr>\n",
       "    <tr>\n",
       "      <th>1</th>\n",
       "      <td>1</td>\n",
       "      <td>NaN</td>\n",
       "      <td>NaN</td>\n",
       "      <td>NaN</td>\n",
       "      <td>NaN</td>\n",
       "      <td>NaN</td>\n",
       "      <td>NaN</td>\n",
       "      <td>NaN</td>\n",
       "      <td>NaN</td>\n",
       "      <td>NaN</td>\n",
       "      <td>NaN</td>\n",
       "      <td>0</td>\n",
       "    </tr>\n",
       "    <tr>\n",
       "      <th>2</th>\n",
       "      <td>2</td>\n",
       "      <td>NaN</td>\n",
       "      <td>NaN</td>\n",
       "      <td>NaN</td>\n",
       "      <td>NaN</td>\n",
       "      <td>NaN</td>\n",
       "      <td>NaN</td>\n",
       "      <td>NaN</td>\n",
       "      <td>NaN</td>\n",
       "      <td>NaN</td>\n",
       "      <td>NaN</td>\n",
       "      <td>0</td>\n",
       "    </tr>\n",
       "    <tr>\n",
       "      <th>3</th>\n",
       "      <td>3</td>\n",
       "      <td>NaN</td>\n",
       "      <td>NaN</td>\n",
       "      <td>NaN</td>\n",
       "      <td>NaN</td>\n",
       "      <td>NaN</td>\n",
       "      <td>NaN</td>\n",
       "      <td>NaN</td>\n",
       "      <td>NaN</td>\n",
       "      <td>NaN</td>\n",
       "      <td>NaN</td>\n",
       "      <td>0</td>\n",
       "    </tr>\n",
       "    <tr>\n",
       "      <th>4</th>\n",
       "      <td>4</td>\n",
       "      <td>NaN</td>\n",
       "      <td>NaN</td>\n",
       "      <td>NaN</td>\n",
       "      <td>NaN</td>\n",
       "      <td>NaN</td>\n",
       "      <td>NaN</td>\n",
       "      <td>NaN</td>\n",
       "      <td>NaN</td>\n",
       "      <td>NaN</td>\n",
       "      <td>NaN</td>\n",
       "      <td>1</td>\n",
       "    </tr>\n",
       "    <tr>\n",
       "      <th>5</th>\n",
       "      <td>5</td>\n",
       "      <td>NaN</td>\n",
       "      <td>NaN</td>\n",
       "      <td>NaN</td>\n",
       "      <td>NaN</td>\n",
       "      <td>NaN</td>\n",
       "      <td>NaN</td>\n",
       "      <td>NaN</td>\n",
       "      <td>NaN</td>\n",
       "      <td>NaN</td>\n",
       "      <td>NaN</td>\n",
       "      <td>0</td>\n",
       "    </tr>\n",
       "    <tr>\n",
       "      <th>6</th>\n",
       "      <td>6</td>\n",
       "      <td>NaN</td>\n",
       "      <td>NaN</td>\n",
       "      <td>NaN</td>\n",
       "      <td>NaN</td>\n",
       "      <td>NaN</td>\n",
       "      <td>NaN</td>\n",
       "      <td>NaN</td>\n",
       "      <td>NaN</td>\n",
       "      <td>NaN</td>\n",
       "      <td>NaN</td>\n",
       "      <td>0</td>\n",
       "    </tr>\n",
       "    <tr>\n",
       "      <th>7</th>\n",
       "      <td>7</td>\n",
       "      <td>NaN</td>\n",
       "      <td>NaN</td>\n",
       "      <td>NaN</td>\n",
       "      <td>NaN</td>\n",
       "      <td>NaN</td>\n",
       "      <td>NaN</td>\n",
       "      <td>NaN</td>\n",
       "      <td>NaN</td>\n",
       "      <td>NaN</td>\n",
       "      <td>NaN</td>\n",
       "      <td>0</td>\n",
       "    </tr>\n",
       "    <tr>\n",
       "      <th>8</th>\n",
       "      <td>8</td>\n",
       "      <td>NaN</td>\n",
       "      <td>NaN</td>\n",
       "      <td>NaN</td>\n",
       "      <td>NaN</td>\n",
       "      <td>NaN</td>\n",
       "      <td>NaN</td>\n",
       "      <td>NaN</td>\n",
       "      <td>NaN</td>\n",
       "      <td>NaN</td>\n",
       "      <td>NaN</td>\n",
       "      <td>0</td>\n",
       "    </tr>\n",
       "    <tr>\n",
       "      <th>9</th>\n",
       "      <td>9</td>\n",
       "      <td>NaN</td>\n",
       "      <td>NaN</td>\n",
       "      <td>NaN</td>\n",
       "      <td>NaN</td>\n",
       "      <td>NaN</td>\n",
       "      <td>NaN</td>\n",
       "      <td>NaN</td>\n",
       "      <td>NaN</td>\n",
       "      <td>NaN</td>\n",
       "      <td>NaN</td>\n",
       "      <td>0</td>\n",
       "    </tr>\n",
       "  </tbody>\n",
       "</table>\n",
       "</div>"
      ],
      "text/plain": [
       "   case_id  min(pmts_dpdvalue_108P)  min(pmts_pmtsoverdue_635A)  \\\n",
       "0        0                      NaN                         NaN   \n",
       "1        1                      NaN                         NaN   \n",
       "2        2                      NaN                         NaN   \n",
       "3        3                      NaN                         NaN   \n",
       "4        4                      NaN                         NaN   \n",
       "5        5                      NaN                         NaN   \n",
       "6        6                      NaN                         NaN   \n",
       "7        7                      NaN                         NaN   \n",
       "8        8                      NaN                         NaN   \n",
       "9        9                      NaN                         NaN   \n",
       "\n",
       "   avg(pmts_dpdvalue_108P)  avg(pmts_pmtsoverdue_635A)  \\\n",
       "0                      NaN                         NaN   \n",
       "1                      NaN                         NaN   \n",
       "2                      NaN                         NaN   \n",
       "3                      NaN                         NaN   \n",
       "4                      NaN                         NaN   \n",
       "5                      NaN                         NaN   \n",
       "6                      NaN                         NaN   \n",
       "7                      NaN                         NaN   \n",
       "8                      NaN                         NaN   \n",
       "9                      NaN                         NaN   \n",
       "\n",
       "   median(pmts_dpdvalue_108P)  median(pmts_pmtsoverdue_635A)  \\\n",
       "0                         NaN                            NaN   \n",
       "1                         NaN                            NaN   \n",
       "2                         NaN                            NaN   \n",
       "3                         NaN                            NaN   \n",
       "4                         NaN                            NaN   \n",
       "5                         NaN                            NaN   \n",
       "6                         NaN                            NaN   \n",
       "7                         NaN                            NaN   \n",
       "8                         NaN                            NaN   \n",
       "9                         NaN                            NaN   \n",
       "\n",
       "   max(pmts_dpdvalue_108P)  max(pmts_pmtsoverdue_635A)  \\\n",
       "0                      NaN                         NaN   \n",
       "1                      NaN                         NaN   \n",
       "2                      NaN                         NaN   \n",
       "3                      NaN                         NaN   \n",
       "4                      NaN                         NaN   \n",
       "5                      NaN                         NaN   \n",
       "6                      NaN                         NaN   \n",
       "7                      NaN                         NaN   \n",
       "8                      NaN                         NaN   \n",
       "9                      NaN                         NaN   \n",
       "\n",
       "   std(pmts_dpdvalue_108P)  std(pmts_pmtsoverdue_635A)  target  \n",
       "0                      NaN                         NaN       0  \n",
       "1                      NaN                         NaN       0  \n",
       "2                      NaN                         NaN       0  \n",
       "3                      NaN                         NaN       0  \n",
       "4                      NaN                         NaN       1  \n",
       "5                      NaN                         NaN       0  \n",
       "6                      NaN                         NaN       0  \n",
       "7                      NaN                         NaN       0  \n",
       "8                      NaN                         NaN       0  \n",
       "9                      NaN                         NaN       0  "
      ]
     },
     "execution_count": 41,
     "metadata": {},
     "output_type": "execute_result"
    }
   ],
   "source": [
    "dfp_lgb.limit(10).toPandas()"
   ]
  },
  {
   "cell_type": "code",
   "execution_count": 72,
   "metadata": {
    "tags": []
   },
   "outputs": [
    {
     "data": {
      "text/html": [
       "<div>\n",
       "<style scoped>\n",
       "    .dataframe tbody tr th:only-of-type {\n",
       "        vertical-align: middle;\n",
       "    }\n",
       "\n",
       "    .dataframe tbody tr th {\n",
       "        vertical-align: top;\n",
       "    }\n",
       "\n",
       "    .dataframe thead th {\n",
       "        text-align: right;\n",
       "    }\n",
       "</style>\n",
       "<table border=\"1\" class=\"dataframe\">\n",
       "  <thead>\n",
       "    <tr style=\"text-align: right;\">\n",
       "      <th></th>\n",
       "      <th>key</th>\n",
       "      <th>col</th>\n",
       "      <th>statistic</th>\n",
       "      <th>pvalue</th>\n",
       "      <th>statistic_location</th>\n",
       "      <th>statistic_sign</th>\n",
       "    </tr>\n",
       "  </thead>\n",
       "  <tbody>\n",
       "    <tr>\n",
       "      <th>361</th>\n",
       "      <td>credit_bureau_a_1</td>\n",
       "      <td>overdueamountmax_35A</td>\n",
       "      <td>0.091823</td>\n",
       "      <td>0.0</td>\n",
       "      <td>478.58798</td>\n",
       "      <td>1</td>\n",
       "    </tr>\n",
       "    <tr>\n",
       "      <th>359</th>\n",
       "      <td>credit_bureau_a_1</td>\n",
       "      <td>overdueamountmax2_398A</td>\n",
       "      <td>0.091374</td>\n",
       "      <td>0.0</td>\n",
       "      <td>632.59000</td>\n",
       "      <td>1</td>\n",
       "    </tr>\n",
       "    <tr>\n",
       "      <th>351</th>\n",
       "      <td>credit_bureau_a_1</td>\n",
       "      <td>numberofoverdueinstlmax_1151L</td>\n",
       "      <td>0.091176</td>\n",
       "      <td>0.0</td>\n",
       "      <td>5.00000</td>\n",
       "      <td>1</td>\n",
       "    </tr>\n",
       "    <tr>\n",
       "      <th>330</th>\n",
       "      <td>credit_bureau_a_1</td>\n",
       "      <td>dpdmax_757P</td>\n",
       "      <td>0.090952</td>\n",
       "      <td>0.0</td>\n",
       "      <td>4.00000</td>\n",
       "      <td>1</td>\n",
       "    </tr>\n",
       "    <tr>\n",
       "      <th>334</th>\n",
       "      <td>credit_bureau_a_1</td>\n",
       "      <td>dpdmaxdateyear_896T</td>\n",
       "      <td>0.076606</td>\n",
       "      <td>0.0</td>\n",
       "      <td>2017.00000</td>\n",
       "      <td>1</td>\n",
       "    </tr>\n",
       "    <tr>\n",
       "      <th>366</th>\n",
       "      <td>credit_bureau_a_1</td>\n",
       "      <td>periodicityofpmts_1102L</td>\n",
       "      <td>0.071526</td>\n",
       "      <td>0.0</td>\n",
       "      <td>360.00000</td>\n",
       "      <td>1</td>\n",
       "    </tr>\n",
       "    <tr>\n",
       "      <th>365</th>\n",
       "      <td>credit_bureau_a_1</td>\n",
       "      <td>overdueamountmaxdateyear_994T</td>\n",
       "      <td>0.068593</td>\n",
       "      <td>0.0</td>\n",
       "      <td>2017.00000</td>\n",
       "      <td>1</td>\n",
       "    </tr>\n",
       "    <tr>\n",
       "      <th>356</th>\n",
       "      <td>credit_bureau_a_1</td>\n",
       "      <td>overdueamount_31A</td>\n",
       "      <td>0.040531</td>\n",
       "      <td>0.0</td>\n",
       "      <td>2950.00000</td>\n",
       "      <td>1</td>\n",
       "    </tr>\n",
       "    <tr>\n",
       "      <th>353</th>\n",
       "      <td>credit_bureau_a_1</td>\n",
       "      <td>numberofoverdueinstls_834L</td>\n",
       "      <td>0.040492</td>\n",
       "      <td>0.0</td>\n",
       "      <td>1.00000</td>\n",
       "      <td>1</td>\n",
       "    </tr>\n",
       "    <tr>\n",
       "      <th>322</th>\n",
       "      <td>credit_bureau_a_1</td>\n",
       "      <td>contractst_964M</td>\n",
       "      <td>0.040307</td>\n",
       "      <td>0.0</td>\n",
       "      <td>0.00000</td>\n",
       "      <td>-1</td>\n",
       "    </tr>\n",
       "  </tbody>\n",
       "</table>\n",
       "</div>"
      ],
      "text/plain": [
       "                   key                            col  statistic  pvalue  \\\n",
       "361  credit_bureau_a_1           overdueamountmax_35A   0.091823     0.0   \n",
       "359  credit_bureau_a_1         overdueamountmax2_398A   0.091374     0.0   \n",
       "351  credit_bureau_a_1  numberofoverdueinstlmax_1151L   0.091176     0.0   \n",
       "330  credit_bureau_a_1                    dpdmax_757P   0.090952     0.0   \n",
       "334  credit_bureau_a_1            dpdmaxdateyear_896T   0.076606     0.0   \n",
       "366  credit_bureau_a_1        periodicityofpmts_1102L   0.071526     0.0   \n",
       "365  credit_bureau_a_1  overdueamountmaxdateyear_994T   0.068593     0.0   \n",
       "356  credit_bureau_a_1              overdueamount_31A   0.040531     0.0   \n",
       "353  credit_bureau_a_1     numberofoverdueinstls_834L   0.040492     0.0   \n",
       "322  credit_bureau_a_1                contractst_964M   0.040307     0.0   \n",
       "\n",
       "     statistic_location  statistic_sign  \n",
       "361           478.58798               1  \n",
       "359           632.59000               1  \n",
       "351             5.00000               1  \n",
       "330             4.00000               1  \n",
       "334          2017.00000               1  \n",
       "366           360.00000               1  \n",
       "365          2017.00000               1  \n",
       "356          2950.00000               1  \n",
       "353             1.00000               1  \n",
       "322             0.00000              -1  "
      ]
     },
     "execution_count": 72,
     "metadata": {},
     "output_type": "execute_result"
    }
   ],
   "source": [
    "df_ks_res[df_ks_res[\"key\"] == \"credit_bureau_a_1\"].sort_values(\n",
    "    \"statistic\", ascending=False\n",
    ").head(10)"
   ]
  },
  {
   "cell_type": "markdown",
   "metadata": {},
   "source": [
    "# Features"
   ]
  },
  {
   "cell_type": "code",
   "execution_count": null,
   "metadata": {},
   "outputs": [],
   "source": [
    "d_df.keys()"
   ]
  },
  {
   "cell_type": "code",
   "execution_count": null,
   "metadata": {},
   "outputs": [],
   "source": [
    "df_base = d_df[\"base\"].toPandas()"
   ]
  },
  {
   "cell_type": "markdown",
   "metadata": {},
   "source": [
    "## Basic min/max"
   ]
  },
  {
   "cell_type": "code",
   "execution_count": null,
   "metadata": {
    "scrolled": true
   },
   "outputs": [],
   "source": [
    "# f = 'tax_registry_c_1'\n",
    "# t5 = d_df[f].limit(100000).toPandas()\n",
    "# date_cols = []\n",
    "# for col in t5.columns:\n",
    "#     try:\n",
    "#         if t5[~t5[col].isna()][col].shape[0] > 0:\n",
    "#             pd.to_datetime(t5[col], format='%Y-%m-%d')\n",
    "#             date_cols.append(col)\n",
    "#     except Exception as e:\n",
    "#         pass"
   ]
  },
  {
   "cell_type": "code",
   "execution_count": null,
   "metadata": {
    "scrolled": true
   },
   "outputs": [],
   "source": [
    "date_cols"
   ]
  },
  {
   "cell_type": "code",
   "execution_count": null,
   "metadata": {},
   "outputs": [],
   "source": [
    "d_df[f].printSchema()"
   ]
  },
  {
   "cell_type": "code",
   "execution_count": null,
   "metadata": {},
   "outputs": [],
   "source": []
  },
  {
   "cell_type": "code",
   "execution_count": null,
   "metadata": {},
   "outputs": [],
   "source": []
  },
  {
   "cell_type": "code",
   "execution_count": null,
   "metadata": {
    "scrolled": true
   },
   "outputs": [],
   "source": [
    "d_df[\"applprev_1\"].groupby(\"case_id\").count().sort(\"count\", ascending=False).show(50)"
   ]
  },
  {
   "cell_type": "code",
   "execution_count": null,
   "metadata": {},
   "outputs": [],
   "source": [
    "d_df[\"applprev_1\"][d_df[\"applprev_1\"][\"case_id\"] == 1331766].toPandas().sort_values(\n",
    "    \"creationdate_885D\"\n",
    ")"
   ]
  },
  {
   "cell_type": "markdown",
   "metadata": {},
   "source": [
    "## debitcard_1"
   ]
  },
  {
   "cell_type": "code",
   "execution_count": null,
   "metadata": {},
   "outputs": [],
   "source": [
    "t5 = d_df[\"debitcard_1\"].join(d_df[\"base\"], \"case_id\", \"left\").toPandas()\n",
    "\n",
    "t5[\"openingdate_857D\"] = pd.to_datetime(t5[\"openingdate_857D\"])\n",
    "t5[\"date_decision\"] = pd.to_datetime(t5[\"date_decision\"])\n",
    "t5[\"target\"] = t5[\"target\"].astype(int)"
   ]
  },
  {
   "cell_type": "code",
   "execution_count": null,
   "metadata": {},
   "outputs": [],
   "source": [
    "t5[\"days_since_open_until_decision\"] = (\n",
    "    t5[\"date_decision\"] - t5[\"openingdate_857D\"]\n",
    ").dt.days"
   ]
  },
  {
   "cell_type": "code",
   "execution_count": null,
   "metadata": {},
   "outputs": [],
   "source": [
    "t5"
   ]
  },
  {
   "cell_type": "code",
   "execution_count": null,
   "metadata": {},
   "outputs": [],
   "source": [
    "import lightgbm as lgb\n",
    "from sklearn.model_selection import train_test_split\n",
    "\n",
    "t5_s = t5.drop(columns=[\"openingdate_857D\", \"date_decision\"])\n",
    "\n",
    "t5_train, t5_test = train_test_split(t5_s, test_size=0.2)"
   ]
  },
  {
   "cell_type": "code",
   "execution_count": null,
   "metadata": {},
   "outputs": [],
   "source": [
    "train_data = lgb.Dataset(t5_train.drop(columns=\"target\"), label=t5_train[\"target\"])\n",
    "test_data = lgb.Dataset(t5_test.drop(columns=\"target\"), label=t5_test[\"target\"])\n",
    "param = {\"num_leaves\": 31, \"objective\": \"binary\", \"metric\": \"mae\"}"
   ]
  },
  {
   "cell_type": "code",
   "execution_count": null,
   "metadata": {},
   "outputs": [],
   "source": [
    "def focal_loss_lgb(y_pred, dtrain, alpha, gamma):\n",
    "    a, g = alpha, gamma\n",
    "    y_true = dtrain.label\n",
    "\n",
    "    def fl(x, t):\n",
    "        p = 1 / (1 + np.exp(-x))\n",
    "        return (\n",
    "            -(a * t + (1 - a) * (1 - t))\n",
    "            * ((1 - (t * p + (1 - t) * (1 - p))) ** g)\n",
    "            * (t * np.log(p) + (1 - t) * np.log(1 - p))\n",
    "        )\n",
    "\n",
    "    partial_fl = lambda x: fl(x, y_true)\n",
    "    grad = derivative(partial_fl, y_pred, n=1, dx=1e-6)\n",
    "    hess = derivative(partial_fl, y_pred, n=2, dx=1e-6)\n",
    "    return grad, hess\n",
    "\n",
    "\n",
    "def focal_loss_lgb_eval_error(y_pred, dtrain, alpha, gamma):\n",
    "    a, g = alpha, gamma\n",
    "    y_true = dtrain.label\n",
    "    p = 1 / (1 + np.exp(-y_pred))\n",
    "    loss = (\n",
    "        -(a * y_true + (1 - a) * (1 - y_true))\n",
    "        * ((1 - (y_true * p + (1 - y_true) * (1 - p))) ** g)\n",
    "        * (y_true * np.log(p) + (1 - y_true) * np.log(1 - p))\n",
    "    )\n",
    "    # (eval_name, eval_result, is_higher_better)\n",
    "    return \"focal_loss\", np.mean(loss), False"
   ]
  },
  {
   "cell_type": "code",
   "execution_count": null,
   "metadata": {},
   "outputs": [],
   "source": [
    "num_round = 10\n",
    "\n",
    "focal_loss = lambda x, y: focal_loss_lgb(x, y, alpha=0.25, gamma=1.0)\n",
    "focal_loss_eval = lambda x, y: focal_loss_lgb_eval_error(x, y, alpha=0.25, gamma=1.0)\n",
    "\n",
    "bst = lgb.train(\n",
    "    param,\n",
    "    train_data,\n",
    "    num_round,\n",
    "    #                 fobj=focal_loss,\n",
    "    feval=focal_loss_eval,\n",
    "    valid_sets=[test_data],\n",
    ")"
   ]
  },
  {
   "cell_type": "code",
   "execution_count": null,
   "metadata": {},
   "outputs": [],
   "source": [
    "bst.best_score"
   ]
  },
  {
   "cell_type": "code",
   "execution_count": null,
   "metadata": {},
   "outputs": [],
   "source": []
  },
  {
   "cell_type": "code",
   "execution_count": null,
   "metadata": {},
   "outputs": [],
   "source": []
  },
  {
   "cell_type": "code",
   "execution_count": null,
   "metadata": {},
   "outputs": [],
   "source": []
  },
  {
   "cell_type": "code",
   "execution_count": null,
   "metadata": {},
   "outputs": [],
   "source": [
    "from pyspark.ml.feature import VectorAssembler\n",
    "from pyspark.ml.regression import LinearRegression"
   ]
  },
  {
   "cell_type": "code",
   "execution_count": null,
   "metadata": {},
   "outputs": [],
   "source": [
    "t5 = t5.na.fill(-1)"
   ]
  },
  {
   "cell_type": "code",
   "execution_count": null,
   "metadata": {},
   "outputs": [],
   "source": [
    "t6 = t5.toPandas()"
   ]
  },
  {
   "cell_type": "code",
   "execution_count": null,
   "metadata": {},
   "outputs": [],
   "source": [
    "t6[\"target\"].value_counts()"
   ]
  },
  {
   "cell_type": "code",
   "execution_count": null,
   "metadata": {
    "scrolled": true
   },
   "outputs": [],
   "source": [
    "vectorAssembler = VectorAssembler(\n",
    "    inputCols=[\"last180dayaveragebalance_704A\"], outputCol=\"features\"\n",
    ")\n",
    "v_t5 = vectorAssembler.transform(t5.limit(50))\n",
    "v_t5 = v_t5.select([\"features\", \"target\"])\n",
    "v_t5.show(3)"
   ]
  },
  {
   "cell_type": "code",
   "execution_count": null,
   "metadata": {},
   "outputs": [],
   "source": [
    "splits = v_t5.randomSplit([0.7, 0.3])\n",
    "train_df = splits[0]\n",
    "test_df = splits[1]"
   ]
  },
  {
   "cell_type": "code",
   "execution_count": null,
   "metadata": {},
   "outputs": [],
   "source": [
    "from pyspark.ml.regression import LinearRegression\n",
    "\n",
    "lr = LinearRegression(\n",
    "    featuresCol=\"features\",\n",
    "    labelCol=\"target\",\n",
    "    maxIter=10,\n",
    "    regParam=0.3,\n",
    "    elasticNetParam=0.8,\n",
    ")\n",
    "lr_model = lr.fit(train_df)\n",
    "print(\"Coefficients: \" + str(lr_model.coefficients))\n",
    "print(\"Intercept: \" + str(lr_model.intercept))"
   ]
  },
  {
   "cell_type": "code",
   "execution_count": null,
   "metadata": {},
   "outputs": [],
   "source": [
    "lr_model.summary.rootMeanSquaredError"
   ]
  },
  {
   "cell_type": "code",
   "execution_count": null,
   "metadata": {},
   "outputs": [],
   "source": [
    "lr_model.predict(test_df)"
   ]
  },
  {
   "cell_type": "code",
   "execution_count": null,
   "metadata": {},
   "outputs": [],
   "source": []
  },
  {
   "cell_type": "code",
   "execution_count": null,
   "metadata": {},
   "outputs": [],
   "source": [
    "lr = LinearRegression(\n",
    "    featuresCol=\"features\",\n",
    "    labelCol=\"target\",\n",
    "    regParam=0.0,\n",
    "    solver=\"normal\",\n",
    "    weightCol=\"weight\",\n",
    ")"
   ]
  },
  {
   "cell_type": "code",
   "execution_count": null,
   "metadata": {},
   "outputs": [],
   "source": [
    "t5"
   ]
  },
  {
   "cell_type": "code",
   "execution_count": null,
   "metadata": {},
   "outputs": [],
   "source": []
  },
  {
   "cell_type": "code",
   "execution_count": null,
   "metadata": {},
   "outputs": [],
   "source": []
  },
  {
   "cell_type": "code",
   "execution_count": null,
   "metadata": {},
   "outputs": [],
   "source": []
  },
  {
   "cell_type": "code",
   "execution_count": null,
   "metadata": {},
   "outputs": [],
   "source": [
    "df_debitcard_1 = d_df[\"debitcard_1\"].orderBy([\"case_id\", \"num_group1\"]).toPandas()"
   ]
  },
  {
   "cell_type": "code",
   "execution_count": null,
   "metadata": {},
   "outputs": [],
   "source": [
    "t5 = pd.merge(df_debitcard_1, df_base, \"left\", \"case_id\")"
   ]
  },
  {
   "cell_type": "code",
   "execution_count": null,
   "metadata": {},
   "outputs": [],
   "source": [
    "t5"
   ]
  },
  {
   "cell_type": "code",
   "execution_count": null,
   "metadata": {},
   "outputs": [],
   "source": [
    "import numpy as np\n",
    "from sklearn.linear_model import LinearRegression\n",
    "\n",
    "X = np.array([[1, 1], [1, 2], [2, 2], [2, 3]])\n",
    "# y = 1 * x_0 + 2 * x_1 + 3\n",
    "y = np.dot(X, np.array([1, 2])) + 3\n",
    "reg = LinearRegression().fit(X, y)\n",
    "reg.score(X, y)\n",
    "reg.coef_\n",
    "reg.intercept_\n",
    "reg.predict(np.array([[3, 5]]))"
   ]
  },
  {
   "cell_type": "code",
   "execution_count": null,
   "metadata": {},
   "outputs": [],
   "source": []
  },
  {
   "cell_type": "code",
   "execution_count": null,
   "metadata": {},
   "outputs": [],
   "source": []
  },
  {
   "cell_type": "code",
   "execution_count": null,
   "metadata": {},
   "outputs": [],
   "source": [
    "df_debitcard_1[df_debitcard_1[\"last180dayaveragebalance_704A\"].isna()].shape[\n",
    "    0\n",
    "] / df_debitcard_1.shape[0]"
   ]
  },
  {
   "cell_type": "code",
   "execution_count": null,
   "metadata": {},
   "outputs": [],
   "source": [
    "df_debitcard_1[\"last180dayaveragebalance_704A\"].hist(bins=40, log=True)"
   ]
  },
  {
   "cell_type": "code",
   "execution_count": null,
   "metadata": {},
   "outputs": [],
   "source": [
    "df_debitcard_1[~df_debitcard_1[\"last180dayaveragebalance_704A\"].isna()]"
   ]
  },
  {
   "cell_type": "code",
   "execution_count": null,
   "metadata": {},
   "outputs": [],
   "source": [
    "df_debitcard_1[~df_debitcard_1[\"last180dayturnover_1134A\"].isna()]"
   ]
  },
  {
   "cell_type": "code",
   "execution_count": null,
   "metadata": {},
   "outputs": [],
   "source": [
    "df_base = d_df[\"base\"].toPandas()"
   ]
  },
  {
   "cell_type": "code",
   "execution_count": null,
   "metadata": {},
   "outputs": [],
   "source": [
    "t5 = pd.merge(df_debitcard_1, df_base, \"left\", \"case_id\")"
   ]
  },
  {
   "cell_type": "code",
   "execution_count": null,
   "metadata": {},
   "outputs": [],
   "source": [
    "col = \"last180dayaveragebalance_704A\"\n",
    "_max = 10000\n",
    "ax = t5[(t5[\"target\"] == 1) & (t5[col] < _max)][col].hist(bins=40, log=True, alpha=0.5)\n",
    "t5[(t5[\"target\"] == 0) & (t5[col] < _max)][col].hist(\n",
    "    bins=40, ax=ax, log=True, alpha=0.5\n",
    ")"
   ]
  },
  {
   "cell_type": "code",
   "execution_count": null,
   "metadata": {},
   "outputs": [],
   "source": [
    "df_base[\"target\"].value_counts()"
   ]
  },
  {
   "cell_type": "code",
   "execution_count": null,
   "metadata": {
    "scrolled": true
   },
   "outputs": [],
   "source": [
    "t4 = df_base.groupby(\"MONTH\")[\"target\"].value_counts().reset_index()\n",
    "t4"
   ]
  },
  {
   "cell_type": "code",
   "execution_count": null,
   "metadata": {},
   "outputs": [],
   "source": [
    "t5 = pd.pivot_table(t4, \"count\", \"MONTH\", \"target\")\n",
    "t5.columns = [str(x) for x in t5.columns]"
   ]
  },
  {
   "cell_type": "code",
   "execution_count": null,
   "metadata": {},
   "outputs": [],
   "source": [
    "t5[\"pct\"] = (t5[\"1\"] / (t5[\"0\"] + t5[\"1\"])) * 100"
   ]
  },
  {
   "cell_type": "code",
   "execution_count": null,
   "metadata": {},
   "outputs": [],
   "source": [
    "t5"
   ]
  },
  {
   "cell_type": "code",
   "execution_count": null,
   "metadata": {},
   "outputs": [],
   "source": [
    "d_df.keys()"
   ]
  },
  {
   "cell_type": "code",
   "execution_count": null,
   "metadata": {},
   "outputs": [],
   "source": [
    "df_feature_definitions[\n",
    "    df_feature_definitions[\"Variable\"] == \"last180dayaveragebalance_704A\"\n",
    "][\"Description\"].values[0]"
   ]
  },
  {
   "cell_type": "code",
   "execution_count": null,
   "metadata": {},
   "outputs": [],
   "source": []
  }
 ],
 "metadata": {
  "kaggle": {
   "accelerator": "none",
   "dataSources": [
    {
     "databundleVersionId": 7602123,
     "sourceId": 50160,
     "sourceType": "competition"
    },
    {
     "datasetId": 4429643,
     "sourceId": 7607787,
     "sourceType": "datasetVersion"
    }
   ],
   "dockerImageVersionId": 30646,
   "isGpuEnabled": false,
   "isInternetEnabled": true,
   "language": "python",
   "sourceType": "notebook"
  },
  "kernelspec": {
   "display_name": "Python 3 (ipykernel)",
   "language": "python",
   "name": "python3"
  },
  "language_info": {
   "codemirror_mode": {
    "name": "ipython",
    "version": 3
   },
   "file_extension": ".py",
   "mimetype": "text/x-python",
   "name": "python",
   "nbconvert_exporter": "python",
   "pygments_lexer": "ipython3",
   "version": "3.11.0"
  }
 },
 "nbformat": 4,
 "nbformat_minor": 4
}
